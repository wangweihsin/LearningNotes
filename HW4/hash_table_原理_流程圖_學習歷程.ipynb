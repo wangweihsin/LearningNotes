{
 "cells": [
  {
   "cell_type": "markdown",
   "metadata": {},
   "source": [
    "# 一、原理說明\n",
    "[🔗09_Hash Table & Hash Function](https://github.com/zhaoqieyu/LearningNotes/tree/master/09_Hash%20Table)\n",
    "\n",
    "# 二、流程圖\n",
    "## 新增 : 把新的key加入hash table ( 先找出要把key放在哪個buckets )\n",
    "\n",
    "* case1.：當buckets為**空值**時，**直接**將要加入的值**加入bukets**中\n",
    "* case2.：當buckets**非空值**時\n",
    "     * 用**Linked List**的概念，從該 buckets 的**第 0 項開始向後搜尋**\n",
    "     * 若該 buckets 的 node 中有值，則往下一個 node 繼續，直到為空值時加入    \n",
    "\n",
    "![add](https://github.com/zhaoqieyu/LearningNotes/blob/master/pictures/hash%20table_add.jpg?raw=true)\n",
    "\n",
    "## 刪除 : 把key從hash table中移除 ( 先找出key在哪個buckets )\n",
    "\n",
    "* case1.：當buckets為**空值**時，表示此hash table中**沒有值可以刪除**\n",
    "* case2.：當buckets**非空值**時，\n",
    "     * 用**Linked List**的概念，從該 buckets 的**第 0 項開始向後搜尋** ，若**找不到**，則此hash table中**沒有存放該刪除值**   \n",
    "     * 用**Linked List**的概念，從該 buckets 的**第 0 項開始向後搜尋** ，找到以後\n",
    "       * case2.1：若要刪除的值在**最後一個**，則**直接把該node改成None**\n",
    "       * case2.2：若要刪除的值在**不是最後一個**，將要刪除的值的**前一個node**直接**指向**要刪除的值的**下一個node**，再把要刪除的值變成None\n",
    "     * 再透過**迴圈重新搜尋**，看還有沒有要刪除的值\n",
    "     * 當找完**整串Linked List都找不到**時，表示欲刪除值已**刪完**\n",
    "\n",
    "![remove](https://github.com/zhaoqieyu/LearningNotes/blob/master/pictures/hash%20table_delete.jpg?raw=true)\n",
    "\n",
    "## 查詢 : 看看hash table中是否有存放此key ( 先搜尋key在哪個buckets )\n",
    "\n",
    "* case1.：要搜尋的 bucket 為**空值**時，表示 hash table 中**沒有此搜尋值**\n",
    "* case2.：要搜尋的 bucket **非空值**時，\n",
    "     * case2.1：當node中的值**等於**該搜尋值，表示**找到**\n",
    "     * case2.2：當node中的值**不等於**該搜尋值，**繼續往下**個node做搜尋\n",
    "     * case2.3：若搜**到最後**的node中的值**仍不等於**該搜尋值，表示此hash table中**沒有存放該搜尋值**\n",
    "     \n",
    "![contain](https://github.com/zhaoqieyu/LearningNotes/blob/master/pictures/hash%20table_contain.jpg?raw=true)"
   ]
  },
  {
   "cell_type": "markdown",
   "metadata": {},
   "source": [
    "# 三、學習歷程"
   ]
  },
  {
   "cell_type": "markdown",
   "metadata": {},
   "source": [
    "載套件，並以上課時的測試碼做測試"
   ]
  },
  {
   "cell_type": "code",
   "execution_count": 46,
   "metadata": {},
   "outputs": [
    {
     "name": "stdout",
     "output_type": "stream",
     "text": [
      "aba887bcdb08a1e9c59352989248475c\n",
      "52\n",
      "6cac17057e8bca13dc02d8f6efeb2360\n",
      "2\n"
     ]
    }
   ],
   "source": [
    "from Crypto.Hash import MD5\n",
    "a = MD5.new()\n",
    "a.update(\"I am Jessica\".encode(\"utf-8\"))\n",
    "print(a.hexdigest())\n",
    "x= a.hexdigest()\n",
    "x=int(a.hexdigest(),16)\n",
    "print(x%100)\n",
    "\n",
    "b = MD5.new()\n",
    "b.update(\"I am Jessice\".encode(\"utf-8\"))\n",
    "print(b.hexdigest())\n",
    "y= b.hexdigest()\n",
    "y=int(b.hexdigest(),16)\n",
    "print(x%10)"
   ]
  },
  {
   "cell_type": "markdown",
   "metadata": {},
   "source": [
    "## Step1.先試作hash function\n",
    "\n",
    "(1) 做Hash Function-----capacity先用10做測試"
   ]
  },
  {
   "cell_type": "code",
   "execution_count": 32,
   "metadata": {},
   "outputs": [
    {
     "name": "stdout",
     "output_type": "stream",
     "text": [
      "5\n"
     ]
    }
   ],
   "source": [
    "from Crypto.Hash import MD5 \n",
    "a = MD5.new()\n",
    "key = \"dog\"\n",
    "a.update(key.encode(\"utf-8\"))\n",
    "x = a.hexdigest()\n",
    "index = int(x,16)%10\n",
    "print(index)"
   ]
  },
  {
   "cell_type": "markdown",
   "metadata": {},
   "source": [
    "(2) 把資料 (dog) 依 hash function 的位址 (index) **存取**"
   ]
  },
  {
   "cell_type": "code",
   "execution_count": 33,
   "metadata": {},
   "outputs": [
    {
     "name": "stdout",
     "output_type": "stream",
     "text": [
      "put dog to index :  5\n",
      "check the index :  dog\n"
     ]
    }
   ],
   "source": [
    "from Crypto.Hash import MD5 \n",
    "a = MD5.new()\n",
    "key = \"dog\"\n",
    "a.update(key.encode(\"utf-8\"))\n",
    "x = a.hexdigest()\n",
    "index = int(x,16)%10\n",
    "print(\"put\",key,\"to index : \",index)\n",
    "\n",
    "data = [None]*10\n",
    "data[index] = key \n",
    "print(\"check the index : \",data[index])"
   ]
  },
  {
   "cell_type": "markdown",
   "metadata": {},
   "source": [
    "(3) 把多筆資料 (dog、pig、bird) 依 hash function 的位址 (index) **存取** : 此程式已具備基本Hash的架構"
   ]
  },
  {
   "cell_type": "code",
   "execution_count": 37,
   "metadata": {},
   "outputs": [
    {
     "name": "stdout",
     "output_type": "stream",
     "text": [
      "put dog to index :  5\n",
      "put pig to index :  2\n",
      "put bird to index :  9\n",
      "index :  0  / check the data :  None\n",
      "index :  1  / check the data :  None\n",
      "index :  2  / check the data :  pig\n",
      "index :  3  / check the data :  None\n",
      "index :  4  / check the data :  None\n",
      "index :  5  / check the data :  dog\n",
      "index :  6  / check the data :  None\n",
      "index :  7  / check the data :  None\n",
      "index :  8  / check the data :  None\n",
      "index :  9  / check the data :  bird\n"
     ]
    }
   ],
   "source": [
    "from Crypto.Hash import MD5\n",
    "data = [None]*100\n",
    "\n",
    "a = MD5.new()\n",
    "key = \"dog\"\n",
    "a.update(key.encode(\"utf-8\"))\n",
    "x = a.hexdigest()\n",
    "index = int(x,16)%10\n",
    "print(\"put\",key,\"to index : \",index)\n",
    "data[index] = key\n",
    "\n",
    "a = MD5.new()\n",
    "key = \"pig\"\n",
    "a.update(key.encode(\"utf-8\"))\n",
    "x = a.hexdigest()\n",
    "index = int(x,16)%10\n",
    "print(\"put\",key,\"to index : \",index)\n",
    "data[index] = key\n",
    "\n",
    "a = MD5.new()\n",
    "key = \"bird\"\n",
    "a.update(key.encode(\"utf-8\"))\n",
    "x = a.hexdigest()\n",
    "index = int(x,16)%10\n",
    "print(\"put\",key,\"to index : \",index)\n",
    "data[index] = key\n",
    "\n",
    "for i in range(10):\n",
    "    if data[i]!=None:\n",
    "        print(\"index : \",i,\" / check the data : \",data[i])\n",
    "    else:\n",
    "        print(\"index : \",i,\" / check the data : \",\"None\")"
   ]
  },
  {
   "cell_type": "markdown",
   "metadata": {},
   "source": [
    "用函式MD5_hash()簡化"
   ]
  },
  {
   "cell_type": "code",
   "execution_count": 5,
   "metadata": {},
   "outputs": [
    {
     "name": "stdout",
     "output_type": "stream",
     "text": [
      "put dog to index: 45\n",
      "put pig to index: 12\n",
      "put bird to index: 49\n",
      "index :  0  / check the data :  None\n",
      "index :  1  / check the data :  None\n",
      "index :  2  / check the data :  None\n",
      "index :  3  / check the data :  None\n",
      "index :  4  / check the data :  None\n",
      "index :  5  / check the data :  None\n",
      "index :  6  / check the data :  None\n",
      "index :  7  / check the data :  None\n",
      "index :  8  / check the data :  None\n",
      "index :  9  / check the data :  None\n"
     ]
    }
   ],
   "source": [
    "from Crypto.Hash import MD5\n",
    "data  = [None] * 100\n",
    "\n",
    "def MD5_hash(val):\n",
    "    a = MD5.new()\n",
    "    a.update(val.encode(\"utf-8\"))\n",
    "    x = a.hexdigest()\n",
    "    index=int(x,16)%100\n",
    "    return index\n",
    "\n",
    "\n",
    "key = \"dog\"\n",
    "index=MD5_hash(key)\n",
    "print(\"put\",key,\"to index:\",index)\n",
    "data[index] = key\n",
    "\n",
    "\n",
    "key = \"pig\"\n",
    "index=MD5_hash(key)\n",
    "print(\"put\",key,\"to index:\",index)\n",
    "data[index] = key\n",
    "\n",
    "\n",
    "key = \"bird\"\n",
    "index=MD5_hash(key)\n",
    "print(\"put\",key,\"to index:\",index)\n",
    "data[index] = key\n",
    "\n",
    "for i in range(10): # 依序印出hash table\n",
    "    if data[i] != None :\n",
    "        print(\"index : \",i,\" / check the data : \",data[i])\n",
    "    else:\n",
    "        print(\"index : \",i,\" / check the data : \",\"None\")"
   ]
  },
  {
   "cell_type": "markdown",
   "metadata": {},
   "source": [
    "## Step2.改成class的架構\n",
    "(1) 做add"
   ]
  },
  {
   "cell_type": "code",
   "execution_count": 26,
   "metadata": {},
   "outputs": [
    {
     "name": "stdout",
     "output_type": "stream",
     "text": [
      "put dog to index :  5\n",
      "put pig to index :  2\n"
     ]
    }
   ],
   "source": [
    "class ListNode:\n",
    "    def __init__(self, val):\n",
    "        self.val = val\n",
    "        self.next = None\n",
    "        \n",
    "class MyHashSet:\n",
    "    def __init__(self, capacity):\n",
    "        self.capacity = capacity\n",
    "        self.data = [None] * capacity\n",
    "       \n",
    "    def add(self, key):\n",
    "        a = MD5.new()\n",
    "        a.update(key.encode(\"utf-8\"))\n",
    "        x = a.hexdigest()\n",
    "        index = int(x,16)%self.capacity\n",
    "        print(\"put\",key,\"to index : \",index)\n",
    "        self.data[index] = ListNode(key)\n",
    "        \n",
    "hashSet = MyHashSet(10)\n",
    "hashSet.add(\"dog\")\n",
    "hashSet.add(\"pig\")"
   ]
  },
  {
   "cell_type": "markdown",
   "metadata": {},
   "source": [
    "(2) 做remove、contain"
   ]
  },
  {
   "cell_type": "code",
   "execution_count": 27,
   "metadata": {},
   "outputs": [
    {
     "name": "stdout",
     "output_type": "stream",
     "text": [
      "put pig to index: 2\n",
      "find pig at index: 2\n",
      "find pig at index: 2\n",
      "remove pig from index: 2\n",
      "do NOT find pig at index: 2\n",
      "do NOT find pig1 at index: 8\n"
     ]
    }
   ],
   "source": [
    "class ListNode:\n",
    "    def __init__(self, val):\n",
    "        self.val = val\n",
    "        self.next = None\n",
    "        \n",
    "class MyHashSet:\n",
    "    def __init__(self, capacity):\n",
    "        self.capacity = capacity\n",
    "        self.data = [None] * capacity\n",
    "        \n",
    "    def add(self, key):\n",
    "        a = MD5.new()\n",
    "        a.update(key.encode(\"utf-8\"))\n",
    "        x=a.hexdigest()\n",
    "        index=int(x,16)%self.capacity\n",
    "        print(\"put\",key,\"to index:\",index)\n",
    "        self.data[index] = ListNode(key)\n",
    "        \n",
    "    def remove(self, key):\n",
    "        a = MD5.new()\n",
    "        a.update(key.encode(\"utf-8\"))\n",
    "        x=a.hexdigest()\n",
    "        index=int(x,16)%self.capacity\n",
    "        if self.data[index] and self.data[index].val == key:\n",
    "            print(\"find\",key,\"at index:\",index)\n",
    "            print(\"remove\",key,\"from index:\",index)\n",
    "            self.data[index] = None \n",
    "        else:\n",
    "            print(\"do NOT find\",key,\"at index:\",index)\n",
    "\n",
    "    def contains(self, key):\n",
    "        a = MD5.new()\n",
    "        a.update(key.encode(\"utf-8\"))\n",
    "        x=a.hexdigest()\n",
    "        index=int(x,16)%self.capacity\n",
    "        if self.data[index] and self.data[index].val == key:\n",
    "            print(\"find\",key,\"at index:\",index)\n",
    "            return True\n",
    "        else:\n",
    "            print(\"do NOT find\",key,\"at index:\",index)\n",
    "            return False\n",
    "        \n",
    "from Crypto.Hash import MD5\n",
    "\n",
    "hashSet = MyHashSet(10)\n",
    "hashSet.add(\"pig\")\n",
    "hashSet.contains(\"pig\")\n",
    "hashSet.remove(\"pig\")\n",
    "hashSet.contains(\"pig\")\n",
    "hashSet.remove(\"pig1\")"
   ]
  },
  {
   "cell_type": "markdown",
   "metadata": {},
   "source": [
    "接下來，要考慮的問題：\n",
    "若是兩筆資料，要放在同一位置時，怎麼辦？(collision)\n",
    "\n",
    "其中一種方式：使用Link list串接下去。\n",
    "而add(),remove(),contains()都要因此作改變"
   ]
  },
  {
   "cell_type": "code",
   "execution_count": 28,
   "metadata": {},
   "outputs": [
    {
     "name": "stdout",
     "output_type": "stream",
     "text": [
      "True\n",
      "True\n",
      "False\n",
      "True\n",
      "False\n"
     ]
    }
   ],
   "source": [
    "#pip3 install pycryptodome\n",
    "from Crypto.Hash import MD5\n",
    "class ListNode:\n",
    "    def __init__(self, val):\n",
    "        self.val = val\n",
    "        self.next = None\n",
    "        \n",
    "class MyHashSet:\n",
    "    def __init__(self, capacity):\n",
    "        self.capacity = capacity\n",
    "        self.data = [None] * capacity\n",
    "       \n",
    "    def add(self, key):\n",
    "        self.a = MD5.new()\n",
    "        self.a.update(key.encode(\"utf-8\"))\n",
    "        x=self.a.hexdigest()\n",
    "        index=int(x,16)%self.capacity\n",
    "        \n",
    "        if self.data[index] == None: #第一個，若原來沒有時\n",
    "            self.data[index]=ListNode(key)\n",
    "            #print(\"add1: OK,index=\",index)\n",
    "            return\n",
    "        temp =self.data[index] #若原來已被占，看下一個next是否為空\n",
    "        while temp.next != None :\n",
    "            temp = temp.next\n",
    "            #print(\"add3: put to next\")\n",
    "        temp.next = ListNode(key)\n",
    "        #print(\"add2: OK,index=\",index)\n",
    "       \n",
    "    def remove(self, key):\n",
    "        self.a = MD5.new()\n",
    "        self.a.update(key.encode(\"utf-8\"))\n",
    "        x=self.a.hexdigest()\n",
    "        index=int(x,16)%self.capacity\n",
    "        if self.data[index] and self.data[index].val==key:\n",
    "            #print(\"remove1: Found and remove,index=\",index)\n",
    "            if self.data[index].next == None: #最後一個\n",
    "                self.data[index] = None\n",
    "            else: #不是最後一個\n",
    "                self.data[index] =self.data[index].next\n",
    "            return True\n",
    "        if self.data[index] and self.data[index].next:\n",
    "            next_node = self.data[index].next\n",
    "            while next_node:\n",
    "                if  next_node.val == key:\n",
    "                    #print(\"remove2: Found and remove,index=\",index)\n",
    "                    if next_node.next == None :#最後一個\n",
    "                        next_node = None\n",
    "                    else: #不是最後一個\n",
    "                        next_node =next_node.next\n",
    "                    return True\n",
    "                else:\n",
    "                    next_node = next_node.next\n",
    "                    #print(\"remove3: check next\")\n",
    "        #print(\"remove4: not find\")\n",
    "        return False\n",
    "  \n",
    "    def contains(self, key):\n",
    "        self.a = MD5.new()\n",
    "        self.a.update(key.encode(\"utf-8\"))\n",
    "        x=self.a.hexdigest()\n",
    "        index=int(x,16)%self.capacity\n",
    "        if self.data[index] and self.data[index].val==key:\n",
    "            #print(\"contains1: Found,index=\",index)\n",
    "            return True\n",
    "        if self.data[index] and self.data[index].next:\n",
    "            next_node = self.data[index].next\n",
    "            while next_node:\n",
    "                if  next_node.val == key:\n",
    "                    #print(\"contains2: Found,index=\",index)\n",
    "                    return True\n",
    "                else:\n",
    "                    next_node = next_node.next\n",
    "                    #print(\"contain3: check next\")\n",
    "        #print(\"contain4: not find\")\n",
    "        return False\n",
    "\n",
    "\n",
    "hashSet = MyHashSet(100)\n",
    "hashSet.add(\"dog\")\n",
    "hashSet.add(\"pig\")\n",
    "rel = hashSet.contains(\"pig\")\n",
    "print(rel) # True\n",
    "rel = hashSet.contains(\"dog\")\n",
    "print(rel) # True\n",
    "rel = hashSet.contains(\"cat\")\n",
    "print(rel) # False\n",
    "hashSet.add(\"bird\")\n",
    "rel = hashSet.contains(\"bird\")\n",
    "print(rel) # True\n",
    "hashSet.remove(\"pig\")\n",
    "rel = hashSet.contains(\"pig\")\n",
    "print(rel) # False\n"
   ]
  },
  {
   "cell_type": "markdown",
   "metadata": {},
   "source": [
    "最終解\n",
    "\n",
    "新加MD5_hash()，去除不必要print()"
   ]
  },
  {
   "cell_type": "code",
   "execution_count": 29,
   "metadata": {},
   "outputs": [],
   "source": [
    "from Crypto.Hash import MD5\n",
    "class ListNode:\n",
    "    def __init__(self, data):\n",
    "        self.data = data\n",
    "        self.next = None\n",
    "        \n",
    "class MyHashSet:\n",
    "    def __init__(self, capacity=5):\n",
    "        self.capacity = capacity\n",
    "        self.data = [None] * capacity\n",
    "        \n",
    "    def MD5_hash(self,data):\n",
    "        a = MD5.new()\n",
    "        a.update(data.encode(\"utf-8\"))\n",
    "        x = a.hexdigest()\n",
    "        index = int(x,16)%self.capacity\n",
    "        return index\n",
    "           \n",
    "    def add(self, key):\n",
    "        index = self.MD5_hash(key)\n",
    "        if self.data[index] == None: #若原本該buckets中沒有值時\n",
    "            self.data[index] = ListNode(key) #則把key直接加入該index中\n",
    "            return\n",
    "        else: #若原本該buckets中已經有值時\n",
    "            node = self.data[index] #找到要把key放在哪個buckets，並存放在node中\n",
    "            while node.next != None : #看該node的下一個(往該bucket後面看)是否為空，若不是空的\n",
    "                node = node.next #先把目前的node指向下一個node\n",
    "            node.next = ListNode(key) #再把key直接加入下一個node中\n",
    "        \n",
    "    def remove(self, key):\n",
    "        index = self.MD5_hash(key)\n",
    "        if self.data[index] != None and self.data[index].data == key: #若原本該buckets(index)非為空，且該bucket(index)中的值即為刪除值\n",
    "            if self.data[index].next == None: #若此刪除值是Linked List中的最後一個(下一個值為空)\n",
    "                self.data[index] = None #直接把最後一個刪除(改成空)\n",
    "            else: #若此刪除值不是Linked List中最後一個\n",
    "                self.data[index] = self.data[index].next #將要刪除的值的前一個index直接指向要刪除的值的下一個index\n",
    "            return True\n",
    "        elif ( self.data[index] != None and self.data[index].next != None ): #若原本該buckets(index)非為空，且該bucket(index)的下一個非為空\n",
    "            next_node = self.data[index].next #把該bucket(index)的下一個存放為next_node\n",
    "            while next_node != None : #當next_node不為0\n",
    "                if  next_node.data == key: #且next_node等於搜尋值\n",
    "                    if next_node.next == None :#若此刪除值是Linked List中的最後一個(下一個值為空)\n",
    "                        next_node = None #直接把最後一個刪除(改成空)\n",
    "                    else: #若此刪除值不是Linked List中最後一個\n",
    "                        next_node =next_node.next #往下一個繼續\n",
    "                    return True\n",
    "                else: #且next_node不等於搜尋值\n",
    "                    next_node = next_node.next #往下一個繼續\n",
    "        return False\n",
    "  \n",
    "    def contains(self, key):\n",
    "        index = self.MD5_hash(key)\n",
    "        if self.data[index] != None and self.data[index].data == key: #若原本該buckets(index)非為空，且該bucket(index)中的值即為搜尋值\n",
    "            return True #代表找到了，回傳True\n",
    "        elif ( self.data[index] != None and self.data[index].next != None ): #若原本該buckets(index)非為空，且該bucket(index)的下一個非為空\n",
    "            next_node = self.data[index].next #把該bucket(index)的下一個存放為next_node\n",
    "            while next_node != None: #當next_node不為0\n",
    "                if  next_node.data == key: #且next_node等於搜尋值\n",
    "                    return True #代表找到了，回傳True\n",
    "                else: #若next_node不等於搜尋值\n",
    "                    next_node = next_node.next #再繼續往下找(next_node.next)\n",
    "        return False"
   ]
  },
  {
   "cell_type": "code",
   "execution_count": 30,
   "metadata": {},
   "outputs": [
    {
     "name": "stdout",
     "output_type": "stream",
     "text": [
      "True\n",
      "True\n",
      "True\n",
      "True\n",
      "True\n",
      "True\n",
      "False\n",
      "True\n",
      "False\n"
     ]
    }
   ],
   "source": [
    "hashSet = MyHashSet(10)\n",
    "hashSet.add(\"pig\")\n",
    "hashSet.add(\"dog\")\n",
    "hashSet.add(\"pig1\")\n",
    "hashSet.add(\"dog1\")\n",
    "hashSet.add(\"pig2\")\n",
    "hashSet.add(\"dog2\")\n",
    "rel = hashSet.contains(\"pig\")\n",
    "print(rel) # True\n",
    "rel = hashSet.contains(\"dog\")\n",
    "print(rel) # True\n",
    "rel = hashSet.contains(\"pig1\")\n",
    "print(rel) # True\n",
    "rel = hashSet.contains(\"dog1\")\n",
    "print(rel) # True\n",
    "rel = hashSet.contains(\"pig2\")\n",
    "print(rel) # True\n",
    "rel = hashSet.contains(\"dog2\")\n",
    "print(rel) # True\n",
    "rel = hashSet.contains(\"cat\")\n",
    "print(rel) # False\n",
    "hashSet.add(\"bird\")\n",
    "rel = hashSet.contains(\"bird\")\n",
    "print(rel) # True\n",
    "hashSet.remove(\"pig\")\n",
    "rel = hashSet.contains(\"pig\")\n",
    "print(rel) # False"
   ]
  },
  {
   "cell_type": "code",
   "execution_count": 31,
   "metadata": {},
   "outputs": [
    {
     "name": "stdout",
     "output_type": "stream",
     "text": [
      "True\n",
      "True\n",
      "False\n",
      "True\n",
      "False\n"
     ]
    }
   ],
   "source": [
    "#測試結果\n",
    "hashSet = MyHashSet(100)\n",
    "hashSet.add(\"dog\")\n",
    "hashSet.add(\"pig\")\n",
    "rel = hashSet.contains(\"pig\")\n",
    "print(rel) # True\n",
    "rel = hashSet.contains(\"dog\")\n",
    "print(rel) # True\n",
    "rel = hashSet.contains(\"cat\")\n",
    "print(rel) # False\n",
    "hashSet.add(\"bird\")\n",
    "rel = hashSet.contains(\"bird\")\n",
    "print(rel) # True\n",
    "hashSet.remove(\"pig\")\n",
    "rel = hashSet.contains(\"pig\")\n",
    "print(rel) # False"
   ]
  },
  {
   "cell_type": "markdown",
   "metadata": {},
   "source": [
    "## ★程式碼參考資料\n",
    "\n",
    "資料來源 : 自己\n",
    "\n",
    "MD5 https://blog.gtwang.org/programming/python-md5-sha-hash-functions-tutorial-examples/\n",
    "\n",
    "MD5 https://pycryptodome.readthedocs.io/en/latest/src/hash/md5.html"
   ]
  }
 ],
 "metadata": {
  "kernelspec": {
   "display_name": "Python 3",
   "language": "python",
   "name": "python3"
  },
  "language_info": {
   "codemirror_mode": {
    "name": "ipython",
    "version": 3
   },
   "file_extension": ".py",
   "mimetype": "text/x-python",
   "name": "python",
   "nbconvert_exporter": "python",
   "pygments_lexer": "ipython3",
   "version": "3.7.1"
  }
 },
 "nbformat": 4,
 "nbformat_minor": 2
}
