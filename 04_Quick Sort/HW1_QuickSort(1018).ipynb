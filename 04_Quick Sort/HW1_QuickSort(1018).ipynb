{
 "cells": [
  {
   "cell_type": "markdown",
   "metadata": {},
   "source": [
    "#HW1_QuickSort(1018)\n",
    "06170106趙緁愉\n",
    "\n",
    "##基本觀念\n",
    "★快速排序法:對一段尚未排序的數列做排序，是普遍被認為最快的排序演算法!\n",
    "  STEP1 先找基準點\n",
    "        → 此基準點可以隨意找(中間較佳)，但之後都要使用一致的規則\n",
    "          ex:第一次比的時候找中間那筆，下一輪比的時候也要找中間那筆\n",
    "  STEP2 從左到右的數字依序和此基準點(pivot)比大小\n",
    "          比基準點大放左邊\n",
    "          比基準點小放右邊\n",
    "          相等的隨便放就好\n",
    "          → 丟到左右兩堆的數字先不用排序，故使用「append」的方式直接加到該堆最後面\n",
    "  STEP3 第一輪比完後，再從左右兩堆分別找出基準點繼續比較\n",
    "  STEP4 直到沒有數字可再進行切割時停止\n",
    "  \n",
    "##實際演練\n",
    "★EX:9,6,4,7,1,3,8"
   ]
  },
  {
   "cell_type": "code",
   "execution_count": 40,
   "metadata": {},
   "outputs": [
    {
     "data": {
      "text/plain": [
       "[1, 3, 4, 6, 7, 8, 9]"
      ]
     },
     "execution_count": 40,
     "metadata": {},
     "output_type": "execute_result"
    }
   ],
   "source": [
    "Example = [9,6,4,7,1,3,8] \n",
    "def quicksort(Example):\n",
    "    if len(Example)<=1:   #若這串數列中的元素<=1，則不用排序，直接回傳一樣的數列即可\n",
    "        return Example\n",
    "    \n",
    "    pivot = Example[-1]   #基準點找最後一筆\n",
    "    \n",
    "    #設三個list，左一個、基準點在一個、右一個，以便之後透過這些list串在一起\n",
    "    left_smaller=[]\n",
    "    pivot_equal=[]\n",
    "    right_bigger=[]\n",
    "\n",
    "    for i in Example:\n",
    "        if i < pivot:\n",
    "            left_smaller.append(i)     #若該數小於基準點，放右邊\n",
    "        elif i == pivot:\n",
    "            pivot_equal.append(i)        #若該數等於基準點，加到基準點的後面\n",
    "        else:\n",
    "            right_bigger.append(i)       #其餘(也就是大於基準點)，放左邊\n",
    "            \n",
    "    return quicksort(left_smaller) + pivot_equal + quicksort(right_bigger)   #排完時，從左到右依序串聯\n",
    "\n",
    "quicksort(Example)"
   ]
  },
  {
   "cell_type": "code",
   "execution_count": null,
   "metadata": {},
   "outputs": [],
   "source": []
  }
 ],
 "metadata": {
  "kernelspec": {
   "display_name": "Python 3",
   "language": "python",
   "name": "python3"
  },
  "language_info": {
   "codemirror_mode": {
    "name": "ipython",
    "version": 3
   },
   "file_extension": ".py",
   "mimetype": "text/x-python",
   "name": "python",
   "nbconvert_exporter": "python",
   "pygments_lexer": "ipython3",
   "version": "3.7.1"
  }
 },
 "nbformat": 4,
 "nbformat_minor": 2
}
