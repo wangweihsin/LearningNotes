{
 "cells": [
  {
   "cell_type": "markdown",
   "metadata": {},
   "source": [
    "# 一、原理說明\n",
    "[🔗week14_Minimum Spanning Tree ( Kruskal )](https://github.com/zhaoqieyu/LearningNotes/blob/master/week14_Minimum%20Spanning%20Tree%20(%20Kruskal%20)/README.md)\n",
    "\n",
    "[🔗week15_Shortest Path ( Dijkstra )](https://github.com/zhaoqieyu/LearningNotes/blob/master/week15_Shortest%20Path%20(%20Dijkstra%20)/README.md)\n",
    "\n",
    "\n",
    "# 二、流程圖\n",
    "## Kruskal\n",
    "![Kruskal.1](https://github.com/zhaoqieyu/LearningNotes/blob/master/pictures/Kruskal.1.jpg?raw=true)\n",
    "![Kruskal.2](https://github.com/zhaoqieyu/LearningNotes/blob/master/pictures/Kruskal.2.jpg?raw=true)\n",
    "## Dijkstra\n",
    "![Dijkstra.1](https://github.com/zhaoqieyu/LearningNotes/blob/master/pictures/Dijkstra.1.jpg?raw=true)\n",
    "![Dijkstra.2](https://github.com/zhaoqieyu/LearningNotes/blob/master/pictures/Dijkstra.2.jpg?raw=true)\n",
    "\n",
    "# 三、學習歷程"
   ]
  },
  {
   "cell_type": "markdown",
   "metadata": {},
   "source": [
    "測驗值 ( 下列兩種方法解圍圖形的表示法 )"
   ]
  },
  {
   "cell_type": "code",
   "execution_count": null,
   "metadata": {},
   "outputs": [],
   "source": [
    "# Dijkstra sample\n",
    "g = Graph(9) \n",
    "g.graph_matrix = [\n",
    "        [0, 4, 0, 0, 0, 0, 0, 8, 0], \n",
    "        [4, 0, 8, 0, 0, 0, 0, 11, 0], \n",
    "        [0, 8, 0, 7, 0, 4, 0, 0, 2], \n",
    "        [0, 0, 7, 0, 9, 14, 0, 0, 0], \n",
    "        [0, 0, 0, 9, 0, 10, 0, 0, 0], \n",
    "        [0, 0, 4, 14, 10, 0, 2, 0, 0], \n",
    "        [0, 0, 0, 0, 0, 2, 0, 1, 6], \n",
    "        [8, 11, 0, 0, 0, 0, 1, 0, 7], \n",
    "        [0, 0, 2, 0, 0, 0, 6, 7, 0] \n",
    "        ]; \n",
    "  \n",
    "print(\"Dijkstra\",g.Dijkstra(0))"
   ]
  },
  {
   "cell_type": "code",
   "execution_count": null,
   "metadata": {},
   "outputs": [],
   "source": [
    "# Kruskal sample \n",
    "g = Graph(4) \n",
    "g.addEdge(0, 1, 10) \n",
    "g.addEdge(0, 2, 6) \n",
    "g.addEdge(0, 3, 5) \n",
    "g.addEdge(1, 3, 15) \n",
    "g.addEdge(2, 3, 4) \n",
    "\n",
    "print(\"Kruskal\",g.Kruskal() )"
   ]
  },
  {
   "cell_type": "markdown",
   "metadata": {},
   "source": [
    "g.addEdge(0, 1, 10) : u,v,w"
   ]
  },
  {
   "cell_type": "markdown",
   "metadata": {},
   "source": [
    "# 程式碼 \n",
    "\n",
    "# (1.) Dijkstra : 找該點的鄰居，再找鄰居清單中的最小，最後再更新鄰居清單"
   ]
  },
  {
   "cell_type": "code",
   "execution_count": 12,
   "metadata": {},
   "outputs": [],
   "source": [
    "import sys \n",
    "from collections import defaultdict "
   ]
  },
  {
   "cell_type": "markdown",
   "metadata": {},
   "source": [
    "匯入套件 : **sys**\n",
    "\n",
    "   * **Dijkstra**會用到無限大( ∞ ) ，所以匯入套件sys\n",
    "\n",
    "   方法：**sys.maxsize**( 最大的Int值、長度 )\n",
    "    \n",
    "   返回值：int"
   ]
  },
  {
   "cell_type": "code",
   "execution_count": 7,
   "metadata": {},
   "outputs": [],
   "source": [
    "class Graph(): \n",
    "\n",
    "    def __init__(self, vertices):         \n",
    "        self.V = vertices \n",
    "        self.graph_matrix = [[0 for column in range(vertices)]  \n",
    "                    for row in range(vertices)] # to store graph for dijkstra\n",
    "        self.result = {} # to store result for dijkstra"
   ]
  },
  {
   "cell_type": "markdown",
   "metadata": {},
   "source": [
    "初始化 : 為了**Dijkstra**，加入**self.result = {}** ，以便之後回傳值"
   ]
  },
  {
   "cell_type": "code",
   "execution_count": 15,
   "metadata": {},
   "outputs": [],
   "source": [
    "class Graph(): \n",
    "\n",
    "    def __init__(self, vertices):         \n",
    "        self.V = vertices  \n",
    "        self.graph_matrix = [[0 for column in range(vertices)]  \n",
    "                    for row in range(vertices)] \n",
    "        self.result = {}\n",
    "         \n",
    "    \n",
    "    def Dijkstra(self, s): \n",
    "        start , shortest_path = [sys.maxsize] * self.V , [False] * self.V # to initial start and shortest_path\n",
    "        start[s] = 0 #起始點的距離為0"
   ]
  },
  {
   "cell_type": "markdown",
   "metadata": {},
   "source": [
    "* start : 先假設起始點到所有的點均為**無限大( ∞ )**\n",
    "\n",
    "\n",
    "* shortest_path : 再建一個list，作為**最短路徑的集合**，用來存路徑的一個清單，**記距離**(一開始都先設False，代表都尚未被加入)，若以加入則為True\n",
    "\n",
    "\n",
    "* 並且可以先知道起始點到起始點的距離為0"
   ]
  },
  {
   "cell_type": "code",
   "execution_count": 17,
   "metadata": {},
   "outputs": [],
   "source": [
    "class Graph(): \n",
    "\n",
    "    def __init__(self, vertices):         \n",
    "        self.V = vertices  \n",
    "        self.graph_matrix = [[0 for column in range(vertices)]  \n",
    "                    for row in range(vertices)] \n",
    "        self.result = {}\n",
    "         \n",
    "    \n",
    "    def Dijkstra(self, s): \n",
    "        start , shortest_path = [sys.maxsize] * self.V , [False] * self.V # to initial start and shortest_path\n",
    "        start[s] = 0 #起始點的距離為0\n",
    "        \n",
    "        for index in range(self.V): #每個點都要納入考量\n",
    "            u = start.index(sorted([start[i] for i in range(len(start)) if shortest_path[i] == False])[0])  # 找出距離最小，且尚未被加入的過的點           \n",
    "            shortest_path[u] = True  #找到的點u為True，則代表已被加入 "
   ]
  },
  {
   "cell_type": "markdown",
   "metadata": {},
   "source": [
    "在所有點中\n",
    "* 找出距離最短，且尚未被加入集合中的點 U\n",
    "    \n",
    "    \n",
    "* 並把找到的這個點 U 改成 True"
   ]
  },
  {
   "cell_type": "code",
   "execution_count": 19,
   "metadata": {},
   "outputs": [],
   "source": [
    "class Graph(): \n",
    "\n",
    "    def __init__(self, vertices):         \n",
    "        self.V = vertices  \n",
    "        self.graph_matrix = [[0 for column in range(vertices)]  \n",
    "                    for row in range(vertices)] \n",
    "        self.result = {}\n",
    "         \n",
    "    \n",
    "    def Dijkstra(self, s): \n",
    "        start , shortest_path = [sys.maxsize] * self.V , [False] * self.V # to initial start and shortest_path\n",
    "        start[s] = 0 #起始點的距離為0\n",
    "        \n",
    "        for index in range(self.V): #每個點都要納入考量\n",
    "            u = start.index(sorted([start[i] for i in range(len(start)) if shortest_path[i] == False])[0])  # 找出距離最小，且尚未被加入的過的點           \n",
    "            shortest_path[u] = True  #找到的點u為True，則代表已被加入  \n",
    "            \n",
    "            for v in range(self.V): # 更新start[] \n",
    "                if self.graph_matrix[u][v] > 0 and shortest_path[v] == False and start[v] > start[u] + self.graph_matrix[u][v]:# 若該點之前未被加入過，在加入該點後，透過該點，距離是否更近 \n",
    "                    start[v] = start[u] + self.graph_matrix[u][v] #更新 V 點的距離"
   ]
  },
  {
   "cell_type": "markdown",
   "metadata": {},
   "source": [
    "更新start[] ，在 U 點被加入start中考慮時\n",
    "* 若該頂點 V 之前未被加入過，**在加入 U 點後**，透過 U 點，該頂點 V 的距離是否更近\n",
    "    \n",
    "    判斷條件為 :\n",
    "        \n",
    "    * 1. **UV**的距離是否大於0，看非0的，代表**有連線**的\n",
    "    * 2. 相鄰的**V 點尚未被加入**\n",
    "    * 3. **通過V 點會比較快到達**，通過V 點的距離是否大於之前的 U 點再加上新的距離\n",
    "    \n",
    "\n",
    "* 是，則更新 V 點的距離為 U 點的距離加上新的距離 ( **因為V點的距離較遠，U 點的距離加上新的距離較小，故取小的** )\n",
    "\n",
    "\n",
    "* self.graph_matrix[u][v] : 找和 U 有相連的點，故**self.graph_matrix[u][v] > 0**代表**新增了U點後，UV的距離是否大於0**\n",
    "\n",
    "\n",
    "* EX:\n",
    "  [ ∞ , ∞ , ∞ , ∞ ] → 起始點到起始點 : [ 0 , ∞ , ∞ , ∞ ] → 更新start，把和0相鄰的點加入 [ 0 , 4 , ∞ , 8 ]"
   ]
  },
  {
   "cell_type": "code",
   "execution_count": 23,
   "metadata": {},
   "outputs": [],
   "source": [
    "class Graph(): \n",
    "\n",
    "    def __init__(self, vertices):         \n",
    "        self.V = vertices  \n",
    "        self.graph_matrix = [[0 for column in range(vertices)]  \n",
    "                    for row in range(vertices)] \n",
    "        self.result = {}\n",
    "         \n",
    "    \n",
    "    def Dijkstra(self, s): \n",
    "        start , shortest_path = [sys.maxsize] * self.V , [False] * self.V # to initial start and shortest_path\n",
    "        start[s] = 0 #起始點的距離為0\n",
    "        \n",
    "        for index in range(self.V): #每個點都要納入考量\n",
    "            u = start.index(sorted([start[i] for i in range(len(start)) if shortest_path[i] == False])[0])  # 找出距離最小，且尚未被加入的過的點           \n",
    "            shortest_path[u] = True  #找到的點u為True，則代表已被加入  \n",
    "            \n",
    "            for v in range(self.V): # 更新start[] \n",
    "                if self.graph_matrix[u][v] > 0 and shortest_path[v] == False and start[v] > start[u] + self.graph_matrix[u][v]:# 若該點之前未被加入過，在加入該點後，透過該點，距離是否更近 \n",
    "                    start[v] = start[u] + self.graph_matrix[u][v] #更新 V 點的距離\n",
    "        \n",
    "        for node in range(self.V): # to output start to result{}\n",
    "            self.result[str(node)] = start[node]\n",
    "        return  self.result"
   ]
  },
  {
   "cell_type": "markdown",
   "metadata": {},
   "source": [
    "以字串的方式輸出結果"
   ]
  },
  {
   "cell_type": "markdown",
   "metadata": {},
   "source": [
    "# 最終解"
   ]
  },
  {
   "cell_type": "code",
   "execution_count": 24,
   "metadata": {},
   "outputs": [],
   "source": [
    "class Graph(): \n",
    "\n",
    "    def __init__(self, vertices):         \n",
    "        self.V = vertices  \n",
    "        self.graph_matrix = [[0 for column in range(vertices)]  \n",
    "                    for row in range(vertices)] \n",
    "        self.result = {}\n",
    "         \n",
    "    \n",
    "    def Dijkstra(self, s): \n",
    "        start , shortest_path = [sys.maxsize] * self.V , [False] * self.V # to initial start and shortest_path\n",
    "        start[s] = 0 #起始點的距離為0\n",
    "        \n",
    "        for index in range(self.V): #每個點都要納入考量\n",
    "            u = start.index(sorted([start[i] for i in range(len(start)) if shortest_path[i] == False])[0])  # 找出距離最小，且尚未被加入的過的點           \n",
    "            shortest_path[u] = True  #找到的點u為True，則代表已被加入  \n",
    "            \n",
    "            for v in range(self.V): # 更新start[] \n",
    "                if self.graph_matrix[u][v] > 0 and shortest_path[v] == False and start[v] > start[u] + self.graph_matrix[u][v]:# 若該點之前未被加入過，在加入該點後，透過該點，距離是否更近 \n",
    "                    start[v] = start[u] + self.graph_matrix[u][v] \n",
    "        \n",
    "        for node in range(self.V): # to output start to result{}\n",
    "            self.result[str(node)] = start[node]\n",
    "        return  self.result"
   ]
  },
  {
   "cell_type": "code",
   "execution_count": 25,
   "metadata": {},
   "outputs": [
    {
     "name": "stdout",
     "output_type": "stream",
     "text": [
      "Dijkstra {'0': 0, '1': 4, '2': 12, '3': 19, '4': 21, '5': 11, '6': 9, '7': 8, '8': 14}\n"
     ]
    }
   ],
   "source": [
    "# Dijkstra sample\n",
    "g = Graph(9) \n",
    "g.graph_matrix = [\n",
    "        [0, 4, 0, 0, 0, 0, 0, 8, 0], \n",
    "        [4, 0, 8, 0, 0, 0, 0, 11, 0], \n",
    "        [0, 8, 0, 7, 0, 4, 0, 0, 2], \n",
    "        [0, 0, 7, 0, 9, 14, 0, 0, 0], \n",
    "        [0, 0, 0, 9, 0, 10, 0, 0, 0], \n",
    "        [0, 0, 4, 14, 10, 0, 2, 0, 0], \n",
    "        [0, 0, 0, 0, 0, 2, 0, 1, 6], \n",
    "        [8, 11, 0, 0, 0, 0, 1, 0, 7], \n",
    "        [0, 0, 2, 0, 0, 0, 6, 7, 0] \n",
    "        ]; \n",
    "  \n",
    "print(\"Dijkstra\",g.Dijkstra(0))"
   ]
  },
  {
   "cell_type": "markdown",
   "metadata": {},
   "source": [
    "# (2.)Kruskal"
   ]
  },
  {
   "cell_type": "code",
   "execution_count": null,
   "metadata": {},
   "outputs": [],
   "source": [
    "from collections import defaultdict"
   ]
  },
  {
   "cell_type": "code",
   "execution_count": null,
   "metadata": {},
   "outputs": [],
   "source": [
    "class Graph(): \n",
    "\n",
    "    def __init__(self, vertices):         \n",
    "        self.V = vertices \n",
    "        self.graph = []     \n",
    "    \n",
    "    def addEdge(self,u,v,w): \n",
    "        self.graph.append([u,v,w])#加入邊\n",
    "        \n",
    "    check = lambda self, parent , i : i if parent[i] == -1 else self.check(parent,parent[i]) "
   ]
  },
  {
   "cell_type": "markdown",
   "metadata": {},
   "source": [
    "初始化要用到的function"
   ]
  },
  {
   "cell_type": "markdown",
   "metadata": {},
   "source": [
    "* addEdge : 用了append，另外再加了一個check，之後會用到\n",
    "\n",
    "\n",
    "* check : 若 parent 的 index 等於 -1，直接輸出 index，否則輸出 parent 和 parent 的 index "
   ]
  },
  {
   "cell_type": "markdown",
   "metadata": {},
   "source": [
    "**★何謂lamba?**\n",
    "\n",
    "原始的方法"
   ]
  },
  {
   "cell_type": "code",
   "execution_count": 26,
   "metadata": {},
   "outputs": [
    {
     "name": "stdout",
     "output_type": "stream",
     "text": [
      "5\n"
     ]
    }
   ],
   "source": [
    "def max(a,b):\n",
    "    if a>b:\n",
    "        return a\n",
    "    else:\n",
    "        return b\n",
    "\n",
    "print(max(3,5))"
   ]
  },
  {
   "cell_type": "markdown",
   "metadata": {},
   "source": [
    "使用lambda後，更簡潔"
   ]
  },
  {
   "cell_type": "code",
   "execution_count": 28,
   "metadata": {},
   "outputs": [
    {
     "name": "stdout",
     "output_type": "stream",
     "text": [
      "5\n"
     ]
    }
   ],
   "source": [
    "def max(a,b):\n",
    "    if a>b:\n",
    "        return a\n",
    "    else:\n",
    "        return b\n",
    "\n",
    "max1= lambda a,b : a if a>b else b\n",
    "\n",
    "print(max1(3,5))"
   ]
  },
  {
   "cell_type": "markdown",
   "metadata": {},
   "source": [
    "* 先說有幾個變數 → **lambda a,b :**\n",
    "\n",
    "\n",
    "* 判斷式，若 a > b 直接輸出 a，否則輸出 b → **a if a>b else b**"
   ]
  },
  {
   "cell_type": "code",
   "execution_count": null,
   "metadata": {},
   "outputs": [],
   "source": [
    "class Graph(): \n",
    "\n",
    "    def __init__(self, vertices):         \n",
    "        self.V = vertices \n",
    "        self.graph = [] \n",
    "    \n",
    "    def addEdge(self,u,v,w): \n",
    "        self.graph.append([u,v,w])#加入邊\n",
    "        \n",
    "    check = lambda self, parent , i : i if parent[i] == -1 else self.check(parent,parent[i]) \n",
    "    \n",
    "    \n",
    "    def Kruskal(self):\n",
    "        result_dic = {} # to store MST result\n",
    "        index, output = 0, 0 # index:處理的邊/output:已輸出(找到)的邊 \n",
    "        self.graph = sorted(self.graph,key=lambda item: item[2]) # 依照權重找出最小的邊(排序)\n",
    "        parent = [-1]*self.V # 先假設parent為-1"
   ]
  },
  {
   "cell_type": "markdown",
   "metadata": {},
   "source": [
    "先建立所需變數\n",
    "\n",
    "* self.graph 中的 **item[2]** 代表依照權重，也就是說當**g.addEdge(0, 1, 10)**，[2] 的位置表示為權重為 **10** 的位置"
   ]
  },
  {
   "cell_type": "code",
   "execution_count": null,
   "metadata": {},
   "outputs": [],
   "source": [
    "class Graph(): \n",
    "\n",
    "    def __init__(self, vertices):         \n",
    "        self.V = vertices \n",
    "        self.graph = [] \n",
    "    \n",
    "    def addEdge(self,u,v,w): \n",
    "        self.graph.append([u,v,w])#加入邊\n",
    "        \n",
    "    check = lambda self, parent , i : i if parent[i] == -1 else self.check(parent,parent[i]) \n",
    "    \n",
    "    \n",
    "    def Kruskal(self):\n",
    "        result_dic = {} # to store MST result\n",
    "        index, output = 0, 0 # index:處理的邊/output:已輸出(找到)的邊 \n",
    "        self.graph = sorted(self.graph,key=lambda item: item[2]) # 依照權重找出最小的邊(排序)\n",
    "        parent = [-1]*self.V # 先假設parent為-1\n",
    "        \n",
    "        while output < self.V -1 : #若已找到的邊的數量小於已找到的點的數量-1         \n",
    "            u,v,w = self.graph[index] #先讀出list中的3個元素\n",
    "            index += 1 #已處理第一個邊，繼續往下找    "
   ]
  },
  {
   "cell_type": "markdown",
   "metadata": {},
   "source": [
    "當E=V-1時，代表已找完，則程式結束，因此從反向思考，當E<V-1時，程式繼續，如何繼續、要做甚麼?"
   ]
  },
  {
   "cell_type": "markdown",
   "metadata": {},
   "source": [
    "# 最終解"
   ]
  },
  {
   "cell_type": "code",
   "execution_count": 6,
   "metadata": {},
   "outputs": [],
   "source": [
    "class Graph(): \n",
    "\n",
    "    def __init__(self, vertices):         \n",
    "        self.V = vertices \n",
    "        self.graph = [] \n",
    "    \n",
    "    def addEdge(self,u,v,w): \n",
    "        self.graph.append([u,v,w])\n",
    "        \n",
    "    check = lambda self, parent , i : i if parent[i] == -1 else self.check(parent,parent[i]) \n",
    "    \n",
    "    \n",
    "    def Kruskal(self):\n",
    "        result_dic = {} # to store MST result\n",
    "        index, output = 0, 0 # index:處理的邊/output:已輸出(找到)的邊 \n",
    "        self.graph = sorted(self.graph,key=lambda item: item[2]) # 依照權重找出最小的邊(排序)\n",
    "        parent = [-1]*self.V # 先假設parent為-1\n",
    "        \n",
    "        while output < self.V -1 : #若已找到的邊的數量小於已找到的邊的數量          \n",
    "            u,v,w = self.graph[index] #先讀出list中的3個元素\n",
    "            index += 1 #已處理第一個邊，繼續往下找\n",
    "            \n",
    "            if self.check(parent, u) !=  self.check(parent ,v) : #判斷是否有cicle(看u,v的parent是否相同)，若不同，代表沒有cicle \n",
    "                output += 1 #則把該點加入output\n",
    "                result_dic[str(u)+\"-\"+str(v)]=w #u,v確認找到，加入dictionary\n",
    "                parent[self.check(parent, self.check(parent, u))] = self.check(parent, self.check(parent, v)) #更改parent的值 \n",
    "        return result_dic"
   ]
  },
  {
   "cell_type": "markdown",
   "metadata": {},
   "source": [
    "lamba"
   ]
  },
  {
   "cell_type": "code",
   "execution_count": 7,
   "metadata": {},
   "outputs": [
    {
     "name": "stdout",
     "output_type": "stream",
     "text": [
      "Kruskal {'2-3': 4, '0-3': 5, '0-1': 10}\n"
     ]
    }
   ],
   "source": [
    "# Kruskal sample \n",
    "g = Graph(4) \n",
    "g.addEdge(0, 1, 10) \n",
    "g.addEdge(0, 2, 6) \n",
    "g.addEdge(0, 3, 5) \n",
    "g.addEdge(1, 3, 15) \n",
    "g.addEdge(2, 3, 4) \n",
    "\n",
    "print(\"Kruskal\",g.Kruskal() )"
   ]
  },
  {
   "cell_type": "markdown",
   "metadata": {},
   "source": [
    "## ★參考資料\n",
    "程式碼資料來源 : \n",
    "\n",
    "https://www.geeksforgeeks.org/printing-paths-dijkstras-shortest-path-algorithm/\n",
    "\n",
    "https://www.geeksforgeeks.org/kruskals-minimum-spanning-tree-algorithm-greedy-algo-2/\n",
    "\n",
    "原理資料來源:\n",
    "\n",
    "https://zh.wikipedia.org/wiki/%E5%85%8B%E9%B2%81%E6%96%AF%E5%85%8B%E5%B0%94%E6%BC%94%E7%AE%97%E6%B3%95\n",
    "\n",
    "http://www.csie.ntnu.edu.tw/~u91029/SpanningTree.hthttp://www.csie.ntnu.edu.tw/~u91029/Path.html\n",
    "\n",
    "https://zh.wikipedia.org/wiki/%E6%88%B4%E5%85%8B%E6%96%AF%E7%89%B9%E6%8B%89%E7%AE%97%E6%B3%95\n",
    "\n",
    "http://alrightchiu.github.io/SecondRound/shortest-pathintrojian-jie.html\n",
    "\n",
    "https://en.wikipedia.org/wiki/Shortest_path_problem"
   ]
  }
 ],
 "metadata": {
  "kernelspec": {
   "display_name": "Python 3",
   "language": "python",
   "name": "python3"
  },
  "language_info": {
   "codemirror_mode": {
    "name": "ipython",
    "version": 3
   },
   "file_extension": ".py",
   "mimetype": "text/x-python",
   "name": "python",
   "nbconvert_exporter": "python",
   "pygments_lexer": "ipython3",
   "version": "3.7.1"
  }
 },
 "nbformat": 4,
 "nbformat_minor": 2
}
