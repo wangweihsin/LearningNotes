{
 "cells": [
  {
   "cell_type": "markdown",
   "metadata": {},
   "source": [
    "# 程式碼"
   ]
  },
  {
   "cell_type": "code",
   "execution_count": 7,
   "metadata": {},
   "outputs": [
    {
     "name": "stdout",
     "output_type": "stream",
     "text": [
      "[[6], [8], [9], [19], [21], [23]]\n",
      "[6, 8, 9, 19, 21, 23]\n"
     ]
    }
   ],
   "source": [
    "# -*- coding: utf-8 -*-\n",
    "\"\"\"\n",
    "Created on Sun Nov  3 18:35:01 2019\n",
    "\n",
    "@author: jessica\n",
    "\"\"\"\n",
    "\n",
    "\n",
    "class Solution(object):\n",
    "\n",
    "    def merge_sorted_array(self, left_array, right_array):\n",
    "        #print('left_array')\n",
    "        #print(left_array)\n",
    "        #print('right_array')\n",
    "        #print(right_array)\n",
    "        if len(left_array) == 0:\n",
    "            return left_array\n",
    "        elif len(right_array) == 0:\n",
    "            return right_array\n",
    "        else:\n",
    "            new_array = []\n",
    "            x = 0\n",
    "            y = 0\n",
    "            i = 0\n",
    "\n",
    "            if left_array[x] < right_array[y]:\n",
    "                new_array.append(left_array[x])\n",
    "                del left_array[x]\n",
    "                x += x\n",
    "                i += i\n",
    "\n",
    "            elif (left_array[x] >= right_array[y]):\n",
    "                new_array.append(right_array[y])\n",
    "                del right_array[y]\n",
    "                y += y\n",
    "                i += i\n",
    "\n",
    "            if len(left_array) == 0:\n",
    "                new_array += right_array\n",
    "            elif len(right_array) == 0:\n",
    "                new_array += left_array\n",
    "            else:\n",
    "                new_array.extend(self.merge_sorted_array(left_array, right_array))\n",
    "        #print('return')\n",
    "        #print(new_array)\n",
    "        return new_array\n",
    "\n",
    "    def merge_sort(self, example):\n",
    "        #print(example)\n",
    "        middle = len(example)//2\n",
    "\n",
    "        if len(example) > 1:\n",
    "            return self.merge_sorted_array(self.merge_sort(example[:middle]), self.merge_sort(example[middle:]))\n",
    "        elif len(example) == 1:\n",
    "            return [example]\n",
    "\n",
    "\n",
    "example = [9, 6, 21, 19, 23, 8]\n",
    "\n",
    "output = Solution().merge_sort(example)\n",
    "print(output)\n",
    "print([a[0] for a in output])"
   ]
  },
  {
   "cell_type": "code",
   "execution_count": null,
   "metadata": {},
   "outputs": [],
   "source": []
  }
 ],
 "metadata": {
  "kernelspec": {
   "display_name": "Python 3",
   "language": "python",
   "name": "python3"
  },
  "language_info": {
   "codemirror_mode": {
    "name": "ipython",
    "version": 3
   },
   "file_extension": ".py",
   "mimetype": "text/x-python",
   "name": "python",
   "nbconvert_exporter": "python",
   "pygments_lexer": "ipython3",
   "version": "3.7.1"
  }
 },
 "nbformat": 4,
 "nbformat_minor": 2
}
