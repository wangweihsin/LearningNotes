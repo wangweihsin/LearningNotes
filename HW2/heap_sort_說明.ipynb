{
 "cells": [
  {
   "cell_type": "markdown",
   "metadata": {},
   "source": [
    "# 一、文字說明\n",
    "[🔗05_Heap Sort](https://github.com/zhaoqieyu/LearningNotes/blob/master/05_Heap%20Sort/README.md)\n",
    "# 二、流程圖\n",
    "![流程圖](https://github.com/zhaoqieyu/LearningNotes/blob/master/pictures/heap_sort_%E6%B5%81%E7%A8%8B%E5%9C%96.jpg?raw=true)"
   ]
  },
  {
   "cell_type": "markdown",
   "metadata": {},
   "source": [
    "# 三、學習歷程"
   ]
  },
  {
   "cell_type": "markdown",
   "metadata": {},
   "source": [
    "## PART1. 最初想法\n",
    "## 1. 建立tree\n",
    "由於heap_sort是樹狀的結構，本來想說要直接建一棵樹，是可以**真的看的到**的那種，才可以做接下來的動作，所以一開始在這裡卡了非常久...，後來問了一下同學，才知道這棵樹不是真的要建出來，而是**用數列的index去模擬樹的樣子**"
   ]
  },
  {
   "cell_type": "markdown",
   "metadata": {},
   "source": [
    "## 2. 先定義要需要用到各種工具(heapify、switch、pop)"
   ]
  },
  {
   "cell_type": "code",
   "execution_count": 11,
   "metadata": {},
   "outputs": [
    {
     "ename": "NameError",
     "evalue": "name 'max_heapify' is not defined",
     "output_type": "error",
     "traceback": [
      "\u001b[1;31m---------------------------------------------------------------------------\u001b[0m",
      "\u001b[1;31mNameError\u001b[0m                                 Traceback (most recent call last)",
      "\u001b[1;32m<ipython-input-11-c6941617c09c>\u001b[0m in \u001b[0;36m<module>\u001b[1;34m\u001b[0m\n\u001b[0;32m     24\u001b[0m                 \u001b[1;32mreturn\u001b[0m \u001b[0mself\u001b[0m\u001b[1;33m.\u001b[0m\u001b[0mmax_heapify\u001b[0m\u001b[1;33m(\u001b[0m\u001b[0mexample\u001b[0m\u001b[1;33m,\u001b[0m\u001b[0mn\u001b[0m\u001b[1;33m,\u001b[0m\u001b[0mmaxIndex\u001b[0m\u001b[1;33m)\u001b[0m\u001b[1;33m\u001b[0m\u001b[1;33m\u001b[0m\u001b[0m\n\u001b[0;32m     25\u001b[0m                   \u001b[1;31m#交換完後再對它的底層的那一堆再做一次heapify\u001b[0m\u001b[1;33m\u001b[0m\u001b[1;33m\u001b[0m\u001b[1;33m\u001b[0m\u001b[0m\n\u001b[1;32m---> 26\u001b[1;33m \u001b[0mprint\u001b[0m\u001b[1;33m(\u001b[0m\u001b[0mmax_heapify\u001b[0m\u001b[1;33m(\u001b[0m\u001b[0mexample\u001b[0m\u001b[1;33m)\u001b[0m\u001b[1;33m)\u001b[0m\u001b[1;33m\u001b[0m\u001b[1;33m\u001b[0m\u001b[0m\n\u001b[0m",
      "\u001b[1;31mNameError\u001b[0m: name 'max_heapify' is not defined"
     ]
    }
   ],
   "source": [
    "example = [9,6,21,19,23,8,6]\n",
    "class Solution(object):    \n",
    "    \n",
    "    def max_heapify(self,example,n,i): #n表示這棵樹裡有多少個節點、i表對哪個節點做heapify的操作\n",
    "        if i>=n:\n",
    "            return \n",
    "        else:\n",
    "            maxIndex = i #先假設i是3個鐘中的最大值\n",
    "            left_childIndex = 2 * i + 1     \n",
    "            right_childIndex = 2 * i + 2  \n",
    "        \n",
    "            #找出最大值 \n",
    "               #遞迴要有出口:判斷i和n的關係，可知一定要<n才能運行這段程式，\n",
    "               #所以要再加上條件 :\n",
    "               #在最前面加上要保證child_left、child_right不會出界，出界的話就不存在   \n",
    "            if left_childIndex< n and example[left_childIndex]>example[maxIndex]:    \n",
    "                max=left_childIndex\n",
    "            if right_childIndex< n and example[right_childIndex]>example[maxIndex]:\n",
    "                max=right_childIndex\n",
    "                    \n",
    "            #拿最大值和i做交換\n",
    "            if max!=i: #那何時不用做交換?當i已是最大值，故不是最大值的時候 \n",
    "                self.switch(example,maxIndex,i) #交換\n",
    "                return self.max_heapify(example,n,maxIndex) \n",
    "                  #交換完後再對它的底層的那一堆再做一次heapify\n",
    "print(max_heapify(example))"
   ]
  },
  {
   "cell_type": "markdown",
   "metadata": {},
   "source": [
    "用了heapify()來做值的交換比較\n",
    "\n",
    "**思考的點有 : 1.當所有數都是亂的時候，如何建heapify ? 2.這棵樹是如何建構成堆 ?** ，透過推論得知 : **從最後一個節點往前做heapify**"
   ]
  },
  {
   "cell_type": "code",
   "execution_count": 12,
   "metadata": {},
   "outputs": [],
   "source": [
    "    def switch(self,example):\n",
    "        example[j], example[i] = example[i], example[j] "
   ]
  },
  {
   "cell_type": "markdown",
   "metadata": {},
   "source": [
    "再寫一個**交換**的程式"
   ]
  },
  {
   "cell_type": "code",
   "execution_count": 13,
   "metadata": {},
   "outputs": [],
   "source": [
    "    def max_pop(self,example):\n",
    "        x = self.max_pop(example).val"
   ]
  },
  {
   "cell_type": "markdown",
   "metadata": {},
   "source": [
    "**本來想要用pop**來做把值取出的動作，但pop**取出來的值不知道要怎麼辦、要放在哪裡**，所以再最終解的地方**改成用交換**的方式 ( 如下方最終解所示 )  "
   ]
  },
  {
   "cell_type": "markdown",
   "metadata": {},
   "source": [
    "## 3. 再寫一隻程式把他們合起來"
   ]
  },
  {
   "cell_type": "code",
   "execution_count": 14,
   "metadata": {},
   "outputs": [
    {
     "ename": "AttributeError",
     "evalue": "'Solution' object has no attribute 'heap_sort'",
     "output_type": "error",
     "traceback": [
      "\u001b[1;31m---------------------------------------------------------------------------\u001b[0m",
      "\u001b[1;31mAttributeError\u001b[0m                            Traceback (most recent call last)",
      "\u001b[1;32m<ipython-input-14-3efdfd47345a>\u001b[0m in \u001b[0;36m<module>\u001b[1;34m\u001b[0m\n\u001b[0;32m      6\u001b[0m         \u001b[1;32mreturn\u001b[0m \u001b[0mheap_sorted_array\u001b[0m\u001b[1;33m.\u001b[0m\u001b[0mappend\u001b[0m\u001b[1;33m(\u001b[0m\u001b[0mself\u001b[0m\u001b[1;33m.\u001b[0m\u001b[0mmax_pop\u001b[0m\u001b[1;33m(\u001b[0m\u001b[0mexample\u001b[0m\u001b[1;33m)\u001b[0m\u001b[1;33m.\u001b[0m\u001b[0mval\u001b[0m\u001b[1;33m)\u001b[0m\u001b[1;33m\u001b[0m\u001b[1;33m\u001b[0m\u001b[0m\n\u001b[0;32m      7\u001b[0m \u001b[1;33m\u001b[0m\u001b[0m\n\u001b[1;32m----> 8\u001b[1;33m \u001b[0moutput\u001b[0m \u001b[1;33m=\u001b[0m \u001b[0mSolution\u001b[0m\u001b[1;33m(\u001b[0m\u001b[1;33m)\u001b[0m\u001b[1;33m.\u001b[0m\u001b[0mheap_sort\u001b[0m\u001b[1;33m(\u001b[0m\u001b[0mexample\u001b[0m\u001b[1;33m)\u001b[0m\u001b[1;33m\u001b[0m\u001b[1;33m\u001b[0m\u001b[0m\n\u001b[0m\u001b[0;32m      9\u001b[0m \u001b[0mprint\u001b[0m\u001b[1;33m(\u001b[0m\u001b[0moutput\u001b[0m\u001b[1;33m)\u001b[0m\u001b[1;33m\u001b[0m\u001b[1;33m\u001b[0m\u001b[0m\n",
      "\u001b[1;31mAttributeError\u001b[0m: 'Solution' object has no attribute 'heap_sort'"
     ]
    }
   ],
   "source": [
    "    def heap_sort(self,example):\n",
    "        if len(example)<1:\n",
    "            return example\n",
    "        else:\n",
    "            heap_sorted_array=[]\n",
    "            return heap_sorted_array.append(self.max_pop(example).val)\n",
    "\n",
    "output = Solution().heap_sort(example)\n",
    "print(output)"
   ]
  },
  {
   "cell_type": "markdown",
   "metadata": {},
   "source": [
    "錯了!!!!"
   ]
  },
  {
   "cell_type": "markdown",
   "metadata": {},
   "source": [
    "**小結論 :** 一開始一次要想7個數字(共3層、3堆)的時候，頭腦會有點轉不過來，很難一下找到他們之間的關係，所以我後來就**先把樹拆開來分析**，只先著重在最上面的那一堆的3個樹，也就是 **index = 0 , 1 , 2 的部分**，透過觀察及不斷的測試，最後得出了結論，**再把這個結論透過遞迴的方式**套進其他的數字，把程式寫完 **→ 由小範圍到大範圍 !!!**"
   ]
  },
  {
   "cell_type": "markdown",
   "metadata": {},
   "source": [
    "##  PART2. 最終解 ( 程式碼的解釋在此處 )\n",
    "## 1. 最初的定義"
   ]
  },
  {
   "cell_type": "code",
   "execution_count": null,
   "metadata": {},
   "outputs": [],
   "source": [
    "class Solution(object):\n",
    "    list = []\n",
    "    maxOrmin = \"max\"  #max heap\n",
    "    changeEnd = 0 #記錄要做的最後一個結點"
   ]
  },
  {
   "cell_type": "markdown",
   "metadata": {},
   "source": [
    "## 2. 如何比較"
   ]
  },
  {
   "cell_type": "code",
   "execution_count": null,
   "metadata": {},
   "outputs": [],
   "source": [
    "    def Heapify(self, currentIndex): #看看當前的父節點和下面的左有兩個節點(共3個值)\n",
    "\n",
    "        left_child_Index = self.LeftChildIndex(currentIndex) \n",
    "          #用當前的index帶入公式，去呼叫，可以推知當前的這個節點的左邊的index\n",
    "        right_child_Index = self.RightChildIndex(currentIndex) \n",
    "          #用當前的index帶入公式，去呼叫，可以推知當前的這個節點的右邊的index\n",
    "        maxIndex = currentIndex \n",
    "          #先假設當前的父節點是3個鐘中的最大值\n",
    "\n",
    "        #找出最大值\n",
    "        maxIndex = self.CompareResult(maxIndex, left_child_Index) #左邊和最大值做比較\n",
    "        maxIndex = self.CompareResult(maxIndex, right_child_Index) #右邊和最大值做比較\n",
    "\n",
    "        #再拿最大值和i做交換\n",
    "        if maxIndex != currentIndex:  \n",
    "        #那何時不用做交換?在當前的父節點已是最大值時，因此在當前的父節點不等於是最大值時 \n",
    "            self.Change(currentIndex, maxIndex) #交換\n",
    "            return self.Heapify(maxIndex) #交換完後再對它的底層的那一堆再做一次heapify"
   ]
  },
  {
   "cell_type": "markdown",
   "metadata": {},
   "source": [
    "和一開始的寫法有點不同，在找出最大值的部分拉出去再寫 ( 如下面的--**(3)如何找出最大值** )，看起來比較乾淨"
   ]
  },
  {
   "cell_type": "markdown",
   "metadata": {},
   "source": [
    "## 3. 主程式"
   ]
  },
  {
   "cell_type": "code",
   "execution_count": null,
   "metadata": {},
   "outputs": [],
   "source": [
    "     def heap_sort(self,list):\n",
    "        self.list=list\n",
    "        rootIndex = 0 #頂點\n",
    "        endIndex = len(self.list) #從最後一個開啟\n",
    "        startIndex = endIndex // 2 - 1 \n",
    "          #開始執行組合(該堆)最大數的啟點\n",
    "          #套公式算一算，是為了排除最後一個葉子的節點，因為最後一個節點不用排\n",
    "        \n",
    "        #把最大的數值推到0的位置，每一階段都跟兩個子節點比較，最大的往上移動，最後在頂點的就是最大的\n",
    "        for index in range(startIndex, -1, -1):\n",
    "            self.changeEnd = endIndex\n",
    "            self.Heapify(index)\n",
    "        \n",
    "        #頂點與最後數值的交換，交換完後再重新排一次\n",
    "        for index in range(endIndex-1, 0, -1): #endIndex：從最後一個開啟，隨著每一個回合減1\n",
    "            self.changeEnd = index\n",
    "            self.Change(index, rootIndex)\n",
    "            self.Heapify(rootIndex)"
   ]
  },
  {
   "cell_type": "markdown",
   "metadata": {},
   "source": [
    "p.s.下圖為變數代表的意思\n",
    "![the value name](https://github.com/zhaoqieyu/LearningNotes/blob/master/pictures/heapsort.JPG?raw=true)"
   ]
  },
  {
   "cell_type": "markdown",
   "metadata": {},
   "source": [
    "## 4. 以下為當主程式呼叫時所需的其他程式"
   ]
  },
  {
   "cell_type": "markdown",
   "metadata": {},
   "source": [
    "**( 1 ) 透過父節點找子節點**"
   ]
  },
  {
   "cell_type": "code",
   "execution_count": null,
   "metadata": {},
   "outputs": [],
   "source": [
    "    def LeftChildIndex(self, parent_Index):\n",
    "        return 2*parent_Index + 1 #透過父節點推知左邊的子節點\n",
    "    def RightChildIndex(self, parent_Index):\n",
    "        return 2*parent_Index + 2 #透過父節點推知右邊的子節點"
   ]
  },
  {
   "cell_type": "markdown",
   "metadata": {},
   "source": [
    "因為 i 的值會一直改變，所以使用遞迴的方式去重複推算，透過公式 : **l = 2 * i + 1** 以及 **r = 2 * 1 + 2** ，但在這裡我用**parents Index來代替 i** ，不然我會和交換時要用的 i 搞混"
   ]
  },
  {
   "cell_type": "markdown",
   "metadata": {},
   "source": [
    "**( 2 ) 如何找出最大值**"
   ]
  },
  {
   "cell_type": "code",
   "execution_count": null,
   "metadata": {},
   "outputs": [],
   "source": [
    "def Change(self, i, j): #交換的方法\n",
    "        self.list[j], self.list[i] = self.list[i], self.list[j] \n",
    "    \n",
    "    def Compare(self, firstIndex, secondIndex): #比較後交換的邏輯\n",
    "    #first_Index傳進來第一個值、second_Index傳進來第二個值\n",
    "        if(self.maxOrmin == \"max\"): #max heap\n",
    "            return self.list[firstIndex] < self.list[secondIndex]\n",
    "        elif(self.maxOrmin == \"min\"): #min heap\n",
    "            return self.list[firstIndex] > self.list[secondIndex]\n",
    "        \n",
    "    def IsExistIndex(self, index): #確保index小於最後一個結點，也就是說在範圍內，不會超出範圍\n",
    "        return index < self.changeEnd \n",
    "\n",
    "    def CompareResult(self, maxIndex, compareIndex):\n",
    "        if self.IsExistIndex(compareIndex) and self.Compare(maxIndex, compareIndex):  \n",
    "        #有兩個條件(用呼叫的方式)\n",
    "            maxIndex = compareIndex #符合的話即為最大值\n",
    "        return maxIndex"
   ]
  },
  {
   "cell_type": "markdown",
   "metadata": {},
   "source": [
    "**Compare :** 故意設計成可以調整的模式，若 class 的地方改成 maxOrmin = \"min\" 就會變成是 minheap !\n",
    "\n",
    "**Compare Result : 條件有兩個 ( 要去呼叫 ) -- 1. Is Exist Index 、 2. Compare**，而變數設定為**compare Index**是想說有 **left_child Index** 和 **right_child Index** 兩種情況，如此一來，可以直接把他們兩個放進去分別做比較，若符合條件，則比較後的值就直接變成是最大值（maxIndex) ，回傳即可"
   ]
  },
  {
   "cell_type": "markdown",
   "metadata": {},
   "source": [
    "## 最終解-合在一起"
   ]
  },
  {
   "cell_type": "code",
   "execution_count": 24,
   "metadata": {},
   "outputs": [
    {
     "name": "stdout",
     "output_type": "stream",
     "text": [
      "beg--------->\n",
      "[9, 6, 21, 19, 23, 8, 6]\n",
      "end--------->\n",
      "[6, 6, 8, 9, 19, 21, 23]\n"
     ]
    }
   ],
   "source": [
    "class Solution(object):\n",
    "    list = []\n",
    "    maxOrmin = \"max\"  #max heap\n",
    "    changeEnd = 0 #記錄要做的最後一個結點\n",
    "    \n",
    "    def Heapify(self, currentIndex): #看看當前的父節點和下面的左有兩個節點(共3個值)\n",
    "\n",
    "        left_child_Index = self.LeftChildIndex(currentIndex) \n",
    "          #用當前的index帶入公式，去呼叫，可以推知當前的這個節點的左邊的index\n",
    "        right_child_Index = self.RightChildIndex(currentIndex) \n",
    "          #用當前的index帶入公式，去呼叫，可以推知當前的這個節點的右邊的index\n",
    "        maxIndex = currentIndex \n",
    "          #先假設當前的父節點是3個鐘中的最大值\n",
    "\n",
    "        #找出最大值\n",
    "        maxIndex = self.CompareResult(maxIndex, left_child_Index) #左邊和最大值做比較\n",
    "        maxIndex = self.CompareResult(maxIndex, right_child_Index) #右邊和最大值做比較\n",
    "\n",
    "        #再拿最大值和i做交換\n",
    "        if maxIndex != currentIndex:  \n",
    "        #那何時不用做交換?在當前的父節點已是最大值時，因此在當前的父節點不等於是最大值時 \n",
    "            self.Change(currentIndex, maxIndex) #交換\n",
    "            return self.Heapify(maxIndex) #交換完後再對它的底層的那一堆再做一次heapify\n",
    "    \n",
    "    def heap_sort(self,list):\n",
    "        self.list=list\n",
    "        rootIndex = 0 #頂點\n",
    "        endIndex = len(self.list) #從最後一個開啟\n",
    "        startIndex = endIndex // 2 - 1 \n",
    "          #開始執行組合(該堆)最大數的啟點\n",
    "          #套公式算一算，是為了排除最後一個葉子的節點，因為最後一個節點不用排\n",
    "        \n",
    "        #把最大的數值推到0的位置，每一階段都跟兩個子節點比較，最大的往上移動，最後在頂點的就是最大\n",
    "        for index in range(startIndex, -1, -1):\n",
    "            self.changeEnd = endIndex\n",
    "            self.Heapify(index)\n",
    "        \n",
    "        #頂點與最後數值的交換，交換完後再重新排一次\n",
    "        for index in range(endIndex-1, 0, -1): #endIndex：從最後一個開啟，隨著每一個回合減1\n",
    "            self.changeEnd = index\n",
    "            self.Change(index, rootIndex)\n",
    "            self.Heapify(rootIndex)\n",
    "            \n",
    "   \n",
    "    def LeftChildIndex(self, parent_Index):\n",
    "        return 2*parent_Index + 1 #透過父節點推知左邊的子節點\n",
    "    \n",
    "    def RightChildIndex(self, parent_Index):\n",
    "        return 2*parent_Index + 2 #透過父節點推知右邊的子節點\n",
    "\n",
    "    \n",
    "    def Change(self, i, j): #交換的方法\n",
    "        self.list[j], self.list[i] = self.list[i], self.list[j] \n",
    "    \n",
    "    def Compare(self, firstIndex, secondIndex): #比較後交換的邏輯\n",
    "    #first_Index傳進來第一個值、second_Index傳進來第二個值\n",
    "        if(self.maxOrmin == \"max\"): #max heap\n",
    "            return self.list[firstIndex] < self.list[secondIndex]\n",
    "        elif(self.maxOrmin == \"min\"): #min heap\n",
    "            return self.list[firstIndex] > self.list[secondIndex]\n",
    "        \n",
    "    def IsExistIndex(self, index): #確保index小於最後一個結點，也就是說在範圍內，不會超出範圍\n",
    "        return index < self.changeEnd \n",
    "\n",
    "    def CompareResult(self, maxIndex, compareIndex):\n",
    "        if self.IsExistIndex(compareIndex) and self.Compare(maxIndex, compareIndex):  \n",
    "        #有兩個條件(用呼叫的方式)\n",
    "            maxIndex = compareIndex #符合的話即為最大值\n",
    "        return maxIndex\n",
    "    \n",
    "list = [9,6,21,19,23,8,6]\n",
    "print(\"beg--------->\")\n",
    "print(list)\n",
    "Solution().heap_sort(list)\n",
    "print(\"end--------->\")\n",
    "print(list)"
   ]
  },
  {
   "cell_type": "markdown",
   "metadata": {},
   "source": [
    "# ★程式碼參考資料\n",
    "https://www.geeksforgeeks.org/python-program-for-heap-sort/\n",
    "\n",
    "https://stackoverflow.com/questions/13979714/heap-sort-how-to-sort\n",
    "\n",
    "https://docs.python.org/zh-tw/3/library/heapq.html#heapq.heappush"
   ]
  }
 ],
 "metadata": {
  "kernelspec": {
   "display_name": "Python 3",
   "language": "python",
   "name": "python3"
  },
  "language_info": {
   "codemirror_mode": {
    "name": "ipython",
    "version": 3
   },
   "file_extension": ".py",
   "mimetype": "text/x-python",
   "name": "python",
   "nbconvert_exporter": "python",
   "pygments_lexer": "ipython3",
   "version": "3.7.1"
  }
 },
 "nbformat": 4,
 "nbformat_minor": 2
}
