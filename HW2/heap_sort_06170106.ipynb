{
 "cells": [
  {
   "cell_type": "code",
   "execution_count": 1,
   "metadata": {},
   "outputs": [
    {
     "data": {
      "text/plain": [
       "[6, 6, 8, 9, 19, 21, 23]"
      ]
     },
     "execution_count": 1,
     "metadata": {},
     "output_type": "execute_result"
    }
   ],
   "source": [
    "#程式碼的解釋在學習歷程中的最終解\n",
    "\n",
    "class Solution(object):\n",
    "    list = []\n",
    "    maxOrmin = \"max\" \n",
    "    changeEnd = 0  \n",
    "    \n",
    "    def Heapify(self, currentIndex): \n",
    "\n",
    "        left_child_Index = self.LeftChildIndex(currentIndex) \n",
    "        right_child_Index = self.RightChildIndex(currentIndex) \n",
    "        maxIndex = currentIndex \n",
    "        \n",
    "        maxIndex = self.CompareResult(maxIndex, left_child_Index)\n",
    "        maxIndex = self.CompareResult(maxIndex, right_child_Index)\n",
    "        \n",
    "        if maxIndex != currentIndex:  \n",
    "            self.Change(currentIndex, maxIndex) \n",
    "            return self.Heapify(maxIndex) \n",
    "\n",
    "    def heap_sort(self,list):\n",
    "        self.list=list\n",
    "        rootIndex = 0 \n",
    "        endIndex = len(self.list) \n",
    "        startIndex = endIndex // 2 - 1 \n",
    "\n",
    "        for index in range(startIndex, -1, -1): \n",
    "            self.changeEnd = endIndex\n",
    "            self.Heapify(index)\n",
    "        \n",
    "        for index in range(endIndex-1, 0, -1): \n",
    "            self.changeEnd = index\n",
    "            self.Change(index, rootIndex)\n",
    "            self.Heapify(rootIndex)\n",
    "        return self.list\n",
    "    \n",
    "    def LeftChildIndex(self, parent_Index):\n",
    "        return 2*parent_Index + 1 \n",
    "\n",
    "    def RightChildIndex(self, parent_Index):\n",
    "        return 2*parent_Index + 2 \n",
    "            \n",
    "    def Change(self, i, j): \n",
    "        self.list[j], self.list[i] = self.list[i], self.list[j] \n",
    "\n",
    "    def Compare(self, first_Index, second_Index): \n",
    "        if(self.maxOrmin == \"max\"):\n",
    "            return self.list[first_Index] < self.list[second_Index]\n",
    "        elif(self.maxOrmin == \"min\"):\n",
    "            return self.list[first_Index] > self.list[second_Index]\n",
    "    \n",
    "    def IsExistIndex(self, index): \n",
    "        return index < self.changeEnd\n",
    "\n",
    "    def CompareResult(self, maxIndex, compareIndex):\n",
    "        if self.IsExistIndex(compareIndex) and self.Compare(maxIndex, compareIndex): \n",
    "            maxIndex = compareIndex\n",
    "        return maxIndex\n",
    "\n",
    "\n",
    "list = [9,6,21,19,23,8,6]\n",
    "\n",
    "output = Solution().heap_sort(list)\n",
    "output"
   ]
  }
 ],
 "metadata": {
  "kernelspec": {
   "display_name": "Python 3",
   "language": "python",
   "name": "python3"
  },
  "language_info": {
   "codemirror_mode": {
    "name": "ipython",
    "version": 3
   },
   "file_extension": ".py",
   "mimetype": "text/x-python",
   "name": "python",
   "nbconvert_exporter": "python",
   "pygments_lexer": "ipython3",
   "version": "3.7.1"
  }
 },
 "nbformat": 4,
 "nbformat_minor": 2
}
