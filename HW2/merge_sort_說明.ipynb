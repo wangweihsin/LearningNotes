{
 "cells": [
  {
   "cell_type": "markdown",
   "metadata": {},
   "source": [
    "# 一、文字說明\n",
    "**reference** : [🔗06_Merge Sort](https://github.com/zhaoqieyu/LearningNotes/blob/master/06_Merge%20Sort/README.md)\n",
    "# 二、流程圖\n",
    "![流程圖](https://github.com/zhaoqieyu/LearningNotes/blob/master/pictures/%E6%B5%81%E7%A8%8B%E5%9C%96_Merge%20Sort.jpg?raw=true)"
   ]
  },
  {
   "cell_type": "markdown",
   "metadata": {},
   "source": [
    "# 三、學習歷程\n",
    "\n",
    "## STEP1.分割"
   ]
  },
  {
   "cell_type": "code",
   "execution_count": 2,
   "metadata": {},
   "outputs": [],
   "source": [
    "example=[9,6,21,19,23,8,6]"
   ]
  },
  {
   "cell_type": "code",
   "execution_count": 2,
   "metadata": {},
   "outputs": [
    {
     "data": {
      "text/plain": [
       "([9, 6, 21, 19], [23, 8, 6])"
      ]
     },
     "execution_count": 2,
     "metadata": {},
     "output_type": "execute_result"
    }
   ],
   "source": [
    "def split(example):                             \n",
    "    middle = len(example)//2+1                  #分割成兩部分(從中間分)\n",
    "    return example[:middle],example[middle:]    #回傳第0筆到middle以及回傳middle以後的值\n",
    "split(example)"
   ]
  },
  {
   "cell_type": "markdown",
   "metadata": {},
   "source": [
    "正確的應該是要分割成只剩下一個元素，本來以為我打的這種就可以了，但結果顯示只分割了一次，無法分很多次，發現忘了做迴圈!!"
   ]
  },
  {
   "cell_type": "code",
   "execution_count": 3,
   "metadata": {},
   "outputs": [
    {
     "ename": "RecursionError",
     "evalue": "maximum recursion depth exceeded while calling a Python object",
     "output_type": "error",
     "traceback": [
      "\u001b[1;31m---------------------------------------------------------------------------\u001b[0m",
      "\u001b[1;31mRecursionError\u001b[0m                            Traceback (most recent call last)",
      "\u001b[1;32m<ipython-input-3-949c860e87e2>\u001b[0m in \u001b[0;36m<module>\u001b[1;34m\u001b[0m\n\u001b[0;32m     19\u001b[0m     \u001b[1;32mreturn\u001b[0m \u001b[0mexample\u001b[0m\u001b[1;33m[\u001b[0m\u001b[1;33m:\u001b[0m\u001b[0mmiddle\u001b[0m\u001b[1;33m]\u001b[0m\u001b[1;33m,\u001b[0m\u001b[0mexample\u001b[0m\u001b[1;33m[\u001b[0m\u001b[0mmiddle\u001b[0m\u001b[1;33m:\u001b[0m\u001b[1;33m]\u001b[0m    \u001b[1;31m#最後直接回傳前半加後半\u001b[0m\u001b[1;33m\u001b[0m\u001b[1;33m\u001b[0m\u001b[0m\n\u001b[0;32m     20\u001b[0m \u001b[1;33m\u001b[0m\u001b[0m\n\u001b[1;32m---> 21\u001b[1;33m \u001b[0mprint\u001b[0m\u001b[1;33m(\u001b[0m\u001b[0msplit2\u001b[0m\u001b[1;33m(\u001b[0m\u001b[0mexample\u001b[0m\u001b[1;33m)\u001b[0m\u001b[1;33m)\u001b[0m\u001b[1;33m\u001b[0m\u001b[1;33m\u001b[0m\u001b[0m\n\u001b[0m",
      "\u001b[1;32m<ipython-input-3-949c860e87e2>\u001b[0m in \u001b[0;36msplit2\u001b[1;34m(example)\u001b[0m\n\u001b[0;32m     10\u001b[0m             \u001b[1;32mreturn\u001b[0m \u001b[0mexample\u001b[0m\u001b[1;33m[\u001b[0m\u001b[1;33m:\u001b[0m\u001b[0mmiddle\u001b[0m\u001b[1;33m]\u001b[0m             \u001b[1;31m#不用分割，直接回傳前半段\u001b[0m\u001b[1;33m\u001b[0m\u001b[1;33m\u001b[0m\u001b[0m\n\u001b[0;32m     11\u001b[0m         \u001b[1;32melse\u001b[0m\u001b[1;33m:\u001b[0m\u001b[1;33m\u001b[0m\u001b[1;33m\u001b[0m\u001b[0m\n\u001b[1;32m---> 12\u001b[1;33m             \u001b[0msplit2\u001b[0m\u001b[1;33m(\u001b[0m\u001b[0mexample\u001b[0m\u001b[1;33m)\u001b[0m                     \u001b[1;31m#否則，分割example\u001b[0m\u001b[1;33m\u001b[0m\u001b[1;33m\u001b[0m\u001b[0m\n\u001b[0m\u001b[0;32m     13\u001b[0m \u001b[1;33m\u001b[0m\u001b[0m\n\u001b[0;32m     14\u001b[0m         \u001b[1;32mif\u001b[0m \u001b[0mlen\u001b[0m\u001b[1;33m(\u001b[0m\u001b[0mexample\u001b[0m\u001b[1;33m[\u001b[0m\u001b[0mmiddle\u001b[0m\u001b[1;33m:\u001b[0m\u001b[1;33m]\u001b[0m\u001b[1;33m)\u001b[0m\u001b[1;33m<=\u001b[0m\u001b[1;36m1\u001b[0m\u001b[1;33m:\u001b[0m            \u001b[1;31m#若example後半段<=1\u001b[0m\u001b[1;33m\u001b[0m\u001b[1;33m\u001b[0m\u001b[0m\n",
      "... last 1 frames repeated, from the frame below ...\n",
      "\u001b[1;32m<ipython-input-3-949c860e87e2>\u001b[0m in \u001b[0;36msplit2\u001b[1;34m(example)\u001b[0m\n\u001b[0;32m     10\u001b[0m             \u001b[1;32mreturn\u001b[0m \u001b[0mexample\u001b[0m\u001b[1;33m[\u001b[0m\u001b[1;33m:\u001b[0m\u001b[0mmiddle\u001b[0m\u001b[1;33m]\u001b[0m             \u001b[1;31m#不用分割，直接回傳前半段\u001b[0m\u001b[1;33m\u001b[0m\u001b[1;33m\u001b[0m\u001b[0m\n\u001b[0;32m     11\u001b[0m         \u001b[1;32melse\u001b[0m\u001b[1;33m:\u001b[0m\u001b[1;33m\u001b[0m\u001b[1;33m\u001b[0m\u001b[0m\n\u001b[1;32m---> 12\u001b[1;33m             \u001b[0msplit2\u001b[0m\u001b[1;33m(\u001b[0m\u001b[0mexample\u001b[0m\u001b[1;33m)\u001b[0m                     \u001b[1;31m#否則，分割example\u001b[0m\u001b[1;33m\u001b[0m\u001b[1;33m\u001b[0m\u001b[0m\n\u001b[0m\u001b[0;32m     13\u001b[0m \u001b[1;33m\u001b[0m\u001b[0m\n\u001b[0;32m     14\u001b[0m         \u001b[1;32mif\u001b[0m \u001b[0mlen\u001b[0m\u001b[1;33m(\u001b[0m\u001b[0mexample\u001b[0m\u001b[1;33m[\u001b[0m\u001b[0mmiddle\u001b[0m\u001b[1;33m:\u001b[0m\u001b[1;33m]\u001b[0m\u001b[1;33m)\u001b[0m\u001b[1;33m<=\u001b[0m\u001b[1;36m1\u001b[0m\u001b[1;33m:\u001b[0m            \u001b[1;31m#若example後半段<=1\u001b[0m\u001b[1;33m\u001b[0m\u001b[1;33m\u001b[0m\u001b[0m\n",
      "\u001b[1;31mRecursionError\u001b[0m: maximum recursion depth exceeded while calling a Python object"
     ]
    }
   ],
   "source": [
    "def split2(example):\n",
    "    \n",
    "    if len(example)<=1:                    #若數列長度<=1\n",
    "        return(example)                    #直接回傳數列\n",
    "    \n",
    "    else:\n",
    "        middle = len(example)//2+1         #設:要從哪裡分\n",
    "    \n",
    "        if len(example[:middle])<=1:       #若example前半段<=1\n",
    "            return example[:middle]        #不用分割，直接回傳前半段\n",
    "        else:\n",
    "            split2(example)                #否則，分割example\n",
    "            \n",
    "        if len(example[middle:])<=1:       #若example後半段<=1\n",
    "            return example[middle:]        #不用分割，直接回傳後半段\n",
    "        else:\n",
    "            split2(example)                #否則，分割example  \n",
    "            \n",
    "    return example[:middle],example[middle:]#最後直接回傳前半加後半\n",
    "\n",
    "print(split2(example))          "
   ]
  },
  {
   "cell_type": "markdown",
   "metadata": {},
   "source": [
    "結果寫出來的迴圈跑不動...\n",
    "\n",
    "於是透過spyder debug，發現 :\n",
    "\n",
    "1.試到中間發現錯在\" middle = len(example)//2+1 \" ，會卡住，當初是想說如果有奇數的話，這樣前面就可以呈現偶數**比較漂亮**，但發現這樣後面**長度的計算會出錯**，**要把+1去掉**，寫成 \" middle = len(example)//2 \" 才行\n",
    "\n",
    "2.return example[:middle]會找不到值!\n",
    "\n",
    "3.後來雖然跑出來了(單獨分成了一個一個list)，但呈現的結果為:**(([9],([6],[21])),((([19],([23],[8])),[6]))** ，會出現很多()，因為雖然分割了一次後把第一筆分了出來，但後面的仍一起回傳會去，再跑一次。於是上網搜尋找到用**tuple()** 的方式去掉()，並在**return example**的時候**加上[]**(如下列程式碼所示)"
   ]
  },
  {
   "cell_type": "code",
   "execution_count": 8,
   "metadata": {},
   "outputs": [
    {
     "name": "stdout",
     "output_type": "stream",
     "text": [
      "[9, 6, 21, 19, 23, 8, 6]\n",
      "[9, 6, 21]\n",
      "[9]\n",
      "[6, 21]\n",
      "[6]\n",
      "[21]\n",
      "[19, 23, 8, 6]\n",
      "[19, 23]\n",
      "[19]\n",
      "[23]\n",
      "[8, 6]\n",
      "[8]\n",
      "[6]\n"
     ]
    },
    {
     "data": {
      "text/plain": [
       "([9], [6], [21], [19], [23], [8], [6])"
      ]
     },
     "execution_count": 8,
     "metadata": {},
     "output_type": "execute_result"
    }
   ],
   "source": [
    "def split3(example):\n",
    "    print(example)\n",
    "    middle = len(example)//2\n",
    "    \n",
    "    if len(example)>1:           \n",
    "        return tuple(split3(example[:middle]))+tuple(split3(example[middle:]))      \n",
    "    elif len(example)==1:                                                           \n",
    "        return [example]\n",
    "    \n",
    "split3(example) "
   ]
  },
  {
   "cell_type": "markdown",
   "metadata": {},
   "source": [
    "改來改去，終於成功~~"
   ]
  },
  {
   "cell_type": "markdown",
   "metadata": {},
   "source": [
    "## STEP2.兩兩合併,並排序"
   ]
  },
  {
   "cell_type": "code",
   "execution_count": 4,
   "metadata": {},
   "outputs": [
    {
     "ename": "SyntaxError",
     "evalue": "invalid syntax (<ipython-input-4-da1bd6eb7ebb>, line 12)",
     "output_type": "error",
     "traceback": [
      "\u001b[1;36m  File \u001b[1;32m\"<ipython-input-4-da1bd6eb7ebb>\"\u001b[1;36m, line \u001b[1;32m12\u001b[0m\n\u001b[1;33m    while:\u001b[0m\n\u001b[1;37m         ^\u001b[0m\n\u001b[1;31mSyntaxError\u001b[0m\u001b[1;31m:\u001b[0m invalid syntax\n"
     ]
    }
   ],
   "source": [
    "def merge_sorted_array(left_array,right_array):                   \n",
    "    if len(left_array) == 0:                  #若左右兩邊中一個或兩個都=0\n",
    "        return left_array\n",
    "    elif len(right_array) == 0:\n",
    "        return left_array\n",
    "    else:    \n",
    "        new_array=[]\n",
    "        #建立new_array,以便把left_array和right_array的值放入\n",
    "        x=0               #設index:left_array的index取名為x\n",
    "        y=0               #設index:right_array的index取名為y\n",
    "        i=0               #設index:new_array的index取名為i\n",
    "    \n",
    "    while:\n",
    "        if left_array[x] < right_array[y]:    #若x中的值 < y中的值\n",
    "            new_array[i] = left_array[x]      #把x中的值放入new_array\n",
    "            x+=                               \n",
    "            i+=\n",
    "            #new_array的下一筆值(i+1)變成 :\n",
    "            #left_array的下一筆資料(x+1)和right_array原本的值(y)做比較\n",
    "            \n",
    "        else(left_array[x] >= right_array[y]):\n",
    "            new_array[i] = right_array[y]\n",
    "            y+=\n",
    "            i+=\n",
    "        \n",
    "        if x == len(left_array):              #當left_array已經沒有值的時候                                    \n",
    "            new_array.append(right_array[y:]) \n",
    "            #不用再做比較,直接把right_array剩下的值加入new_array即可\n",
    "            break                             #返回並退出整個循環\n",
    "        else y== len(right_array):\n",
    "            new_array.append(left_array[x:])\n",
    "            break\n",
    "    return new_array"
   ]
  },
  {
   "cell_type": "markdown",
   "metadata": {},
   "source": [
    "這是原本看著流程圖憑自己的想法寫下的，發現完全找不到錯在哪\n",
    "\n",
    "於是透過spyder debug，發現:\n",
    "\n",
    "1.本來寫的while沒意義\n",
    "\n",
    "2.x++ 要改成 x+=x 才可以\n",
    "\n",
    "3.**new_array[i] = right_array[y]** 行不通，所以採用append的方式 : **new_array.append(left_array[x])** 把值加進去再跑一次，卻發現還是沒有值，同時最後一段**if x == len(left_array):** 也跟著出錯，發現是因為本來的array在把值加入new_array後的長度會發生改變，所以應該把本來array中的值刪掉，少加了**del left_array[x]** ，沒有這行的話導致在數長度時出錯!"
   ]
  },
  {
   "cell_type": "code",
   "execution_count": 12,
   "metadata": {},
   "outputs": [
    {
     "name": "stdout",
     "output_type": "stream",
     "text": [
      "[9, 6, 21, 19, 23, 8, 6]\n",
      "[9, 6, 21]\n",
      "[9]\n",
      "[6, 21]\n",
      "[6]\n",
      "[21]\n",
      "[19, 23, 8, 6]\n",
      "[19, 23]\n",
      "[19]\n",
      "[23]\n",
      "[8, 6]\n",
      "[8]\n",
      "[6]\n",
      "([9], [6], [21], [19], [23], [8], [6])\n",
      "[6, 9]\n"
     ]
    }
   ],
   "source": [
    "def merge_sorted_array2(left_array,right_array):                   \n",
    "    if len(left_array) == 0:                                     \n",
    "        return left_array\n",
    "    elif len(right_array) == 0:\n",
    "        return left_array\n",
    "    else:    \n",
    "        new_array=[]                                              \n",
    "        x=0                                                       \n",
    "        y=0                                                       \n",
    "        i=0                                                       \n",
    "    \n",
    "        if left_array[x] < right_array[y]:                                  \n",
    "            new_array.append(left_array[x])      #把left_array[x]的值加入new_array\n",
    "            del left_array[x]                    #並刪掉 left_array[x]中的值                    \n",
    "            x+=x                                         \n",
    "            i+=i\n",
    "        \n",
    "        elif (left_array[x] >= right_array[y]):\n",
    "            new_array.append(right_array[y])\n",
    "            del right_array[y]\n",
    "            y+=y\n",
    "            i+=i\n",
    "        \n",
    "        if  len(left_array)>=1:                   #若left_array長度>=1                                                         \n",
    "            new_array+=left_array                 #則把left_array剩下的值直接加入new_array\n",
    "            \n",
    "        if  len(right_array)>=1:\n",
    "            new_array+=right_array\n",
    "            \n",
    "    return new_array\n",
    "\n",
    "\n",
    "list = split3(example)\n",
    "print(list)   \n",
    "print(merge_sorted_array(list[0],list[1]))         #透過測值看看有沒有出錯"
   ]
  },
  {
   "cell_type": "markdown",
   "metadata": {},
   "source": [
    "YAAAA!!!!!"
   ]
  },
  {
   "cell_type": "markdown",
   "metadata": {},
   "source": [
    "## STEP3.迴圈合併"
   ]
  },
  {
   "cell_type": "code",
   "execution_count": 15,
   "metadata": {},
   "outputs": [],
   "source": [
    "def merge_sort(example):                                        \n",
    "    if len(example) <= 1:                         \n",
    "        return example\n",
    "    else: \n",
    "        left=split3(example)\n",
    "        right=split3(example)\n",
    "        return merge_sorted_array(merge_sort(left),merge_sort(right))"
   ]
  },
  {
   "cell_type": "markdown",
   "metadata": {},
   "source": [
    "失敗...，本來想說把切好的數列(只剩下一個一個的元素)直接分成左邊跟右邊，但後來才發現我並沒有告訴電腦要怎麼區分左邊和右邊，所以不可行"
   ]
  },
  {
   "cell_type": "code",
   "execution_count": 19,
   "metadata": {},
   "outputs": [],
   "source": [
    "def merge_sort(example):\n",
    "    if len(example) <= 1:\n",
    "        return example\n",
    "    else:\n",
    "        split3(example)\n",
    "        return merge_sorted_array(merge_sort(example))\n",
    "print(merge_sort(example))"
   ]
  },
  {
   "cell_type": "markdown",
   "metadata": {},
   "source": [
    "會陷入無窮迴圈...出現 : **RecursionError: maximum recursion depth exceeded while calling a Python object**"
   ]
  },
  {
   "cell_type": "code",
   "execution_count": 18,
   "metadata": {},
   "outputs": [],
   "source": [
    "def merge_sort(example):\n",
    "    if len(example) <= 1:\n",
    "        return example\n",
    "    else:\n",
    "        split3(example)\n",
    "        middle = len(split2(example))//2\n",
    "        left = merge_sort(split2(example)[:middle])\n",
    "        right = merge_sort(split2(example)[middle:])\n",
    "        return merge_sorted_array(merge_sort(left),merge_sort(right))\n",
    "print(merge_sort(example))"
   ]
  },
  {
   "cell_type": "markdown",
   "metadata": {},
   "source": [
    "再改一次寫法，發現出現此錯誤 :**'tuple' object doesn't support item deletion**，由於前面在split 時用了tuple的資料型態，但因為後面在merge_sorted_array時使用的都是list的資料型態，因此在這裡並時會出現差錯，**無法運算!!**"
   ]
  },
  {
   "cell_type": "markdown",
   "metadata": {},
   "source": [
    "##  最終解 - 修改後並加上老師要求的class寫法\n",
    "原本想分三段寫，一段分割、一段合併排序、最後一段主程式把前兩段合起來，當分割和合併排序分開跑都能夠成功，但要把他們一起寫進主程式時會出現問題，因為那兩段程式的**資料型態不同**，**沒辦法做運算**，於是決定**把分割的部分融入主程式**"
   ]
  },
  {
   "cell_type": "code",
   "execution_count": 2,
   "metadata": {},
   "outputs": [
    {
     "name": "stdout",
     "output_type": "stream",
     "text": [
      "left_array\n",
      "[6]\n",
      "right_array\n",
      "[21]\n",
      "return\n",
      "[6, 21]\n",
      "left_array\n",
      "[9]\n",
      "right_array\n",
      "[6, 21]\n",
      "left_array\n",
      "[9]\n",
      "right_array\n",
      "[21]\n",
      "return\n",
      "[9, 21]\n",
      "return\n",
      "[6, 9, 21]\n",
      "left_array\n",
      "[23]\n",
      "right_array\n",
      "[8]\n",
      "return\n",
      "[8, 23]\n",
      "left_array\n",
      "[19]\n",
      "right_array\n",
      "[8, 23]\n",
      "left_array\n",
      "[19]\n",
      "right_array\n",
      "[23]\n",
      "return\n",
      "[19, 23]\n",
      "return\n",
      "[8, 19, 23]\n",
      "left_array\n",
      "[6, 9, 21]\n",
      "right_array\n",
      "[8, 19, 23]\n",
      "left_array\n",
      "[9, 21]\n",
      "right_array\n",
      "[8, 19, 23]\n",
      "left_array\n",
      "[9, 21]\n",
      "right_array\n",
      "[19, 23]\n",
      "left_array\n",
      "[21]\n",
      "right_array\n",
      "[19, 23]\n",
      "left_array\n",
      "[21]\n",
      "right_array\n",
      "[23]\n",
      "return\n",
      "[21, 23]\n",
      "return\n",
      "[19, 21, 23]\n",
      "return\n",
      "[9, 19, 21, 23]\n",
      "return\n",
      "[8, 9, 19, 21, 23]\n",
      "return\n",
      "[6, 8, 9, 19, 21, 23]\n",
      "[6, 8, 9, 19, 21, 23]\n"
     ]
    }
   ],
   "source": [
    "# -*- coding: utf-8 -*-\n",
    "\"\"\"\n",
    "Created on Sun Nov  3 18:35:01 2019\n",
    "\n",
    "@author: jessica\n",
    "\"\"\"\n",
    "\n",
    "\n",
    "class Solution(object):\n",
    "\n",
    "    def merge_sorted_array(self, left_array, right_array):   #比大小\n",
    "        print('left_array')\n",
    "        print(left_array)\n",
    "        print('right_array')\n",
    "        print(right_array)\n",
    "        \n",
    "        if len(left_array) == 0:               #若左邊的長度=0\n",
    "            return left_array                  #直接回傳左邊\n",
    "        elif len(right_array) == 0:            #若右邊的長度=0\n",
    "            return right_array                 #直接回傳左邊\n",
    "        else:                                  #否則，在左右兩邊長度皆 >0的情況下\n",
    "            new_array = []                     #建立new_array，以便把left_array和right_array的值放入    \n",
    "            x=0                                #設index:left_array的index取名為x\n",
    "            y=0                                #設index:right_array的index取名為y\n",
    "            i=0                                #設index:new_array的index取名為i\n",
    "\n",
    "            if left_array[x] < right_array[y]:      #若x中的值 < y中的值\n",
    "                new_array.append(left_array[x])     #把x中的值放入new_array\n",
    "                del left_array[x]                   \n",
    "                #並刪掉原本在left_array[x]中的值，以便後續屬長度時部會出錯\n",
    "                x += x\n",
    "                i += i\n",
    "                #new_array的下一筆值(i+1)變成 :\n",
    "                #left_array的下一筆資料(x+1)和right_array原本的值(y)做比較\n",
    "            else: #同理\n",
    "                new_array.append(right_array[y])\n",
    "                del right_array[y]\n",
    "                y += y\n",
    "                i += i\n",
    "\n",
    "            if len(left_array) == 0:            #最後，當左邊長度=0時，即左邊已經比完，沒有值了\n",
    "                new_array += right_array        #則直接把右邊剩下的全部加到new_array內\n",
    "            elif len(right_array) == 0:         #同理\n",
    "                new_array += left_array             \n",
    "            else:\n",
    "                new_array.extend(self.merge_sorted_array(left_array, right_array))   \n",
    "                #用self呼叫把左右兩邊透過merge_sorted_array做比較，\n",
    "                #再用extend把左右兩邊比較過後的加入new_array的尾端\n",
    "        print('return')\n",
    "        print(new_array)\n",
    "        return new_array\n",
    "\n",
    "    \n",
    "    def merge_sort(self, example):                  #主程式:分割後並做合併排序\n",
    "        #print(example)\n",
    "        middle = len(example)//2                    #分割成兩部分(從中間分)\n",
    "\n",
    "        if len(example) > 1: \n",
    "            #當已經拆到底時，之後的合併\n",
    "            return self.merge_sorted_array(self.merge_sort(example[:middle])\n",
    "                                           , self.merge_sort(example[middle:])) \n",
    "            #原本寫的:return tuple(split2(example[:middle]))+tuple(split2(example[middle:]))\n",
    "        else:                     \n",
    "            return example\n",
    "\n",
    "\n",
    "example = [9, 6, 21, 19, 23, 8]\n",
    "\n",
    "output = Solution().merge_sort(example)\n",
    "print(output)"
   ]
  },
  {
   "cell_type": "markdown",
   "metadata": {},
   "source": [
    "**小小心得 :** 一開始不懂什麼是self，經過了解， self 是**class 的自已的意思**，指**自已呼叫自已遞迴的用法**，如果要調用自已的方法要使用 :**self.aaaa()** ，這種方法真的很好用，因為其實前面卡最久的地方就是在最後一步驟要合併回去的時候，有聽老師提到可以用呼叫自己的方式，但當時沒有想明白，所以造成在打程式的時候卡住!"
   ]
  },
  {
   "cell_type": "markdown",
   "metadata": {},
   "source": [
    "# 程式碼參考資料\n",
    "https://medium.com/@amirziai/merge-sort-walkthrough-with-code-in-python-e4f76d90a4ea"
   ]
  }
 ],
 "metadata": {
  "kernelspec": {
   "display_name": "Python 3",
   "language": "python",
   "name": "python3"
  },
  "language_info": {
   "codemirror_mode": {
    "name": "ipython",
    "version": 3
   },
   "file_extension": ".py",
   "mimetype": "text/x-python",
   "name": "python",
   "nbconvert_exporter": "python",
   "pygments_lexer": "ipython3",
   "version": "3.7.1"
  }
 },
 "nbformat": 4,
 "nbformat_minor": 2
}
