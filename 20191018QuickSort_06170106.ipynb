{
 "cells": [
  {
   "cell_type": "markdown",
   "metadata": {},
   "source": [
    "#HW1_1018:QuickSort\n",
    "06170106趙緁愉\n",
    "##基本觀念\n",
    "★快速排序法:對一段尚未排序的數列做排序，是普遍被認為最快的排序演算法!\n",
    "  STEP1 先找基準點\n",
    "        →此基準點可以隨意找(中間較佳)，但之後都要使用一致的規則ex:第一次比的時候找最後一筆，下次比的時候也要找最後一筆。\n",
    "  STEP2 從左到右的數字依序和此基準點比大小，比它大放左邊、比它小放右邊(相等的隨便放就好)\n",
    "        →丟到左右兩堆的數字先不用排序\n",
    "  STEP3 第一輪比完後，再從左右兩堆分別找出基準點繼續比較\n",
    "  STEP4 直到沒有數字可再進行切割時停止\n",
    "##實際演練\n",
    "★EX:2、15、8、3、20\n",
    "\n"
   ]
  },
  {
   "cell_type": "markdown",
   "metadata": {},
   "source": []
  }
 ],
 "metadata": {
  "kernelspec": {
   "display_name": "Python 3",
   "language": "python",
   "name": "python3"
  },
  "language_info": {
   "codemirror_mode": {
    "name": "ipython",
    "version": 3
   },
   "file_extension": ".py",
   "mimetype": "text/x-python",
   "name": "python",
   "nbconvert_exporter": "python",
   "pygments_lexer": "ipython3",
   "version": "3.7.1"
  }
 },
 "nbformat": 4,
 "nbformat_minor": 2
}
