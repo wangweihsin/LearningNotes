{
 "cells": [
  {
   "cell_type": "markdown",
   "metadata": {},
   "source": [
    "# 一、原理說明與比較\n",
    "[🔗week12、13_BFS_DFS](https://github.com/zhaoqieyu/LearningNotes/blob/master/week12%E3%80%8113_BFS_DFS/README.md)\n",
    "\n",
    "\n",
    "\n",
    "# 二、流程圖\n",
    "## BFS\n",
    "![BFS](https://github.com/zhaoqieyu/LearningNotes/blob/master/pictures/BFS.jpg?raw=true)\n",
    "## DFS\n",
    "![DFS](https://github.com/zhaoqieyu/LearningNotes/blob/master/pictures/DFS.jpg?raw=true)"
   ]
  },
  {
   "cell_type": "markdown",
   "metadata": {},
   "source": [
    "# 三、學習歷程"
   ]
  },
  {
   "cell_type": "markdown",
   "metadata": {},
   "source": [
    "# 1.先弄懂何謂dict \n",
    "用來**表示圖**、把資料**做配對**，也就是說，能夠看出graph有幾個點，且記錄下有幾個相連的點\n",
    "    \n",
    "   * 手動\n",
    "  \n",
    "     EX : 現在有一個資料表如下 \n",
    "             1 wang\n",
    "             2 lin\n",
    "             3 yang\n",
    "             \n",
    "         透過python將此表紀錄下來，變成 : class = { 1:wang , 2:lin , 3:yang } → ( 1:wang代表1配對到wang )\n",
    "         再透過 : class[1] 的方式用索引值去查內容\n",
    "         而當配對到的不只一個時，可以使用 : class = { 1:[ wang , zhao ] } 的方式表示"
   ]
  },
  {
   "cell_type": "markdown",
   "metadata": {},
   "source": [
    "另舉一個例子，如下圖所示:\n",
    "\n",
    "![BFS](https://github.com/zhaoqieyu/LearningNotes/blob/master/pictures/BFS.1.jpg?raw=true)"
   ]
  },
  {
   "cell_type": "code",
   "execution_count": 65,
   "metadata": {},
   "outputs": [
    {
     "name": "stdout",
     "output_type": "stream",
     "text": [
      "{'a': ['c'], 'b': ['c', 'e'], 'c': ['a', 'b', 'd', 'e'], 'd': ['c'], 'e': ['c', 'b'], 'f': []}\n"
     ]
    }
   ],
   "source": [
    "# 使用dict\n",
    "graph = { \"a\" : [\"c\"],\n",
    "          \"b\" : [\"c\", \"e\"],\n",
    "          \"c\" : [\"a\", \"b\", \"d\", \"e\"],\n",
    "          \"d\" : [\"c\"],\n",
    "          \"e\" : [\"c\", \"b\"],\n",
    "          \"f\" : []\n",
    "        } \n",
    "\n",
    "print(graph)"
   ]
  },
  {
   "cell_type": "markdown",
   "metadata": {},
   "source": [
    "透過這種方式可以顯示出各節點的鄰居"
   ]
  },
  {
   "cell_type": "markdown",
   "metadata": {},
   "source": [
    "* 自動\n",
    "\n",
    "    addedge 產生 dict → defaultdict ( 原本 dict 的加強、改寫 )\n",
    "\n",
    "    本來要手動判斷是否有值，才可加入，用了defaultdict則可以自動判斷\n",
    "\n",
    "    addedge : 想要把點 U 和點 V 相連起來\n",
    "\n",
    "        U = key → \"a\"\n",
    "\n",
    "        v = value → [ \" c \" ]"
   ]
  },
  {
   "cell_type": "code",
   "execution_count": null,
   "metadata": {},
   "outputs": [],
   "source": [
    "# 如何加入edge(如作業程式碼)\n",
    "graph = defaultdict(list) \n",
    "def addEdge(graph,u,v): \n",
    "    graph[u].append(v) "
   ]
  },
  {
   "cell_type": "markdown",
   "metadata": {},
   "source": [
    "# 2.程式碼"
   ]
  },
  {
   "cell_type": "markdown",
   "metadata": {},
   "source": [
    "* BFS : 用queue實作\n",
    " \n",
    "    * list.append(x)  \n",
    "       \n",
    "    * list.pop(0)\n",
    "    \n",
    "\n",
    "* DFS : 用stack實作\n",
    "    * list.append(x)\n",
    "    * list.pop()"
   ]
  },
  {
   "cell_type": "code",
   "execution_count": 3,
   "metadata": {},
   "outputs": [],
   "source": [
    "# Python3 Program to print BFS traversal \n",
    "# from a given source vertex. BFS(int s) \n",
    "# traverses vertices reachable from s. \n",
    "from collections import defaultdict "
   ]
  },
  {
   "cell_type": "markdown",
   "metadata": {},
   "source": [
    "先寫了一段generate_edges ( 此段在最終版會刪除 )，只是用來show出加入的值是否正確(把dict顯示出來)"
   ]
  },
  {
   "cell_type": "code",
   "execution_count": 4,
   "metadata": {},
   "outputs": [],
   "source": [
    "# This class represents a directed graph \n",
    "# using adjacency list representation \n",
    "class Graph:\n",
    "    # Constructor \n",
    "    def __init__(self): \n",
    "        # default dictionary to store graph \n",
    "        self.graph = defaultdict(list)#產生graph，結構由defaultdict(list)的型蓋組成(self.graph是list型態)\n",
    "\n",
    "    # function to add an edge to graph \n",
    "    def addEdge(self,u,v): \n",
    "        self.graph[u].append(v) #因為self.graph是list型態，所以可以用append加進去U(key)，建立value(list) \n",
    "    \n",
    "    # show all Edge in the tree\n",
    "    def generate_edges(self):\n",
    "        edges = [] #看有哪些邊\n",
    "        for node in self.graph: #檢查每個key\n",
    "            for neighbor in self.graph[node]: #把鄰居印出來，並加在edge後面\n",
    "                edges.append((node,neighbor))\n",
    "        return edges"
   ]
  },
  {
   "cell_type": "code",
   "execution_count": 46,
   "metadata": {},
   "outputs": [
    {
     "name": "stdout",
     "output_type": "stream",
     "text": [
      "[(0, 1), (0, 2), (1, 2), (2, 0), (2, 3), (3, 3)]\n"
     ]
    }
   ],
   "source": [
    "g = Graph()\n",
    "# declaration of graph as dictionary\n",
    "g.addEdge(0,1)\n",
    "g.addEdge(0,2)\n",
    "g.addEdge(1,2)\n",
    "g.addEdge(2,0)\n",
    "g.addEdge(2,3)\n",
    "g.addEdge(3,3)\n",
    "print(g.generate_edges())"
   ]
  },
  {
   "cell_type": "markdown",
   "metadata": {},
   "source": [
    "# BFS"
   ]
  },
  {
   "cell_type": "markdown",
   "metadata": {},
   "source": [
    "假設 state1 為**暫存的待完成清單** 、 state2 為**已走訪過的最終解**"
   ]
  },
  {
   "cell_type": "markdown",
   "metadata": {},
   "source": [
    "# 一開始 : list"
   ]
  },
  {
   "cell_type": "code",
   "execution_count": 29,
   "metadata": {},
   "outputs": [],
   "source": [
    "class Graph:\n",
    "    def __init__(self): \n",
    "        self.graph = defaultdict(list)#產生graph，結構由defaultdict(list)的型蓋組成(self.graph是list型態)\n",
    "\n",
    "    def addEdge(self,u,v): \n",
    "        self.graph[u].append(v) #因為self.graph是list型態，所以可以用append加進去U(key)，建立value(list) \n",
    "\n",
    "    def BFS(self, s): #s為出發點\n",
    "        state1 = [] #先建立一個待完成清單\n",
    "        state1.append(s) #把起點s加入待完成清單\n",
    "        state2 = set() #把有走過的點加入state2中\n",
    "        state2.add(s) #s已走完，因此可先將s加入\n",
    "        while(len(state1)>0): #當待完成清單中還有值\n",
    "            node = state1.pop(0) #從下面取出值\n",
    "            neighbor = self.graph[node] #並看此值有無鄰居[]\n",
    "            #以下是為了要依序把鄰居放入待完成清單\n",
    "            for i in neighbor:\n",
    "                #先看此鄰居有沒有走訪過\n",
    "                if i not in state2: #若沒有\n",
    "                    state1.append(i) #沒走過放待完成清單中\n",
    "                    state2.add(i) #走過放state2\n",
    "        return state2"
   ]
  },
  {
   "cell_type": "code",
   "execution_count": 30,
   "metadata": {},
   "outputs": [
    {
     "name": "stdout",
     "output_type": "stream",
     "text": [
      "{0, 1, 2, 3}\n"
     ]
    }
   ],
   "source": [
    "g = Graph()\n",
    "g.addEdge(0,1)\n",
    "g.addEdge(0,2)\n",
    "g.addEdge(1,2)\n",
    "g.addEdge(2,0)\n",
    "g.addEdge(2,3)\n",
    "g.addEdge(3,3)\n",
    "print(g.BFS(2))"
   ]
  },
  {
   "cell_type": "markdown",
   "metadata": {},
   "source": [
    "直接return state2會怪怪的..."
   ]
  },
  {
   "cell_type": "code",
   "execution_count": 31,
   "metadata": {},
   "outputs": [],
   "source": [
    "class Graph:\n",
    "    def __init__(self): \n",
    "        self.graph = defaultdict(list)#產生graph，結構由defaultdict(list)的型蓋組成(self.graph是list型態)\n",
    "\n",
    "    def addEdge(self,u,v): \n",
    "        self.graph[u].append(v) #因為self.graph是list型態，所以可以用append加進去U(key)，建立value(list) \n",
    "\n",
    "    def BFS(self, s): #s為出發點\n",
    "        state1 = [] #先建立一個待完成清單\n",
    "        state1.append(s) #把起點s加入待完成清單\n",
    "        state2 = set() #把有走過的點加入state2中\n",
    "        state2.add(s) #s已走完，因此可先將s加入\n",
    "        while(len(state1)>0): #當待完成清單中還有值\n",
    "            node = state1.pop(0) #從下面取出值\n",
    "            neighbor = self.graph[node] #並看此值有無鄰居[]\n",
    "            #以下是為了要依序把鄰居放入待完成清單\n",
    "            for i in neighbor:\n",
    "                #先看此鄰居有沒有走訪過\n",
    "                if i not in state2: #若沒有\n",
    "                    state1.append(i) #沒走過放待完成清單中\n",
    "                    state2.add(i) #走過放state2\n",
    "                return state2"
   ]
  },
  {
   "cell_type": "code",
   "execution_count": 32,
   "metadata": {},
   "outputs": [
    {
     "name": "stdout",
     "output_type": "stream",
     "text": [
      "{0, 2}\n"
     ]
    }
   ],
   "source": [
    "g = Graph()\n",
    "g.addEdge(0,1)\n",
    "g.addEdge(0,2)\n",
    "g.addEdge(1,2)\n",
    "g.addEdge(2,0)\n",
    "g.addEdge(2,3)\n",
    "g.addEdge(3,3)\n",
    "print(g.BFS(2))"
   ]
  },
  {
   "cell_type": "markdown",
   "metadata": {},
   "source": [
    "改變了return state2的位置仍不正確...\n",
    "\n",
    "所以發現不能直接return state2，所以在下列程式碼中再建了一個 restult 的 list 來依序儲存取出來的值"
   ]
  },
  {
   "cell_type": "code",
   "execution_count": 17,
   "metadata": {},
   "outputs": [],
   "source": [
    "# This class represents a directed graph \n",
    "# using adjacency list representation \n",
    "class Graph:\n",
    "    # Constructor \n",
    "    def __init__(self): \n",
    "        # default dictionary to store graph \n",
    "        self.graph = defaultdict(list)#產生graph，結構由defaultdict(list)的型蓋組成(self.graph是list型態)\n",
    "\n",
    "    # function to add an edge to graph \n",
    "    def addEdge(self,u,v): \n",
    "        self.graph[u].append(v) #因為self.graph是list型態，所以可以用append加進去U(key)，建立value(list) \n",
    "    \n",
    "    # show all Edge in the tree\n",
    "    def generate_edges(self):\n",
    "        edges = [] #看有哪些邊\n",
    "        for node in self.graph: #檢查每個key\n",
    "            for neighbor in self.graph[node]: #把鄰居印出來，並加在edge後面\n",
    "                edges.append((node,neighbor))\n",
    "        return edges\n",
    "\n",
    "    def BFS(self, s): # s為出發點\n",
    "        result = [] #把走過的順序存在此處方便之後印出來\n",
    "        state1 = [] #先建立一個待完成清單\n",
    "        state1.append(s) #把起點s加入待完成清單\n",
    "        state2 = [] #把有走過的點加入此state2中\n",
    "        state2.append(s) #s已走完，因此可先將s加入\n",
    "        while(len(state1)>0): #當待完成清單中還有值\n",
    "            node = state1.pop(0) #從下面取出值\n",
    "            neighbor = self.graph[node] #並看此值有無鄰居[]\n",
    "            #以下是為了要依序把鄰居放入待完成清單\n",
    "            for i in neighbor:\n",
    "                #先看此鄰居有沒有走訪過\n",
    "                if i not in state2: #若沒有\n",
    "                    state1.append(i) #沒走過放待完成清單中\n",
    "                    state2.append(i) #走過放state2\n",
    "            result.append(node)\n",
    "        return result"
   ]
  },
  {
   "cell_type": "code",
   "execution_count": 18,
   "metadata": {},
   "outputs": [
    {
     "name": "stdout",
     "output_type": "stream",
     "text": [
      "[(0, 1), (0, 2), (1, 2), (2, 0), (2, 3), (3, 3)]\n",
      "[2, 0, 3, 1]\n"
     ]
    }
   ],
   "source": [
    "g = Graph()\n",
    "# declaration of graph as dictionary\n",
    "g.addEdge(0,1)\n",
    "g.addEdge(0,2)\n",
    "g.addEdge(1,2)\n",
    "g.addEdge(2,0)\n",
    "g.addEdge(2,3)\n",
    "g.addEdge(3,3)\n",
    "print(g.generate_edges())\n",
    "print(g.BFS(2))"
   ]
  },
  {
   "cell_type": "markdown",
   "metadata": {},
   "source": [
    "一開始用習慣的**list**來寫，雖然跑出來的答案是對的，但是換了其他較複雜的測資以後，會出現問題!!!!!所以上網查了以後發現要用**set**來寫會較為恰當"
   ]
  },
  {
   "cell_type": "markdown",
   "metadata": {},
   "source": [
    "# ★ 小發現 : list v.s. set\n",
    "* list 與 set 很像，差別在list有順序性，而set沒有\n",
    "* EX : 加入入1,2,3,4,1,2,3,4\n",
    "\n",
    "list : 會是有八個item"
   ]
  },
  {
   "cell_type": "code",
   "execution_count": 2,
   "metadata": {},
   "outputs": [
    {
     "data": {
      "text/plain": [
       "[1, 2, 3, 4, 1, 2, 3, 4]"
      ]
     },
     "execution_count": 2,
     "metadata": {},
     "output_type": "execute_result"
    }
   ],
   "source": [
    "a=[]\n",
    "a.append(1)\n",
    "a.append(2)\n",
    "a.append(3)\n",
    "a.append(4)\n",
    "a\n",
    "a.append(1)\n",
    "a.append(2)\n",
    "a.append(3)\n",
    "a.append(4)\n",
    "a"
   ]
  },
  {
   "cell_type": "markdown",
   "metadata": {},
   "source": [
    "set : 仍是4個items"
   ]
  },
  {
   "cell_type": "code",
   "execution_count": 6,
   "metadata": {},
   "outputs": [
    {
     "data": {
      "text/plain": [
       "{1, 2, 3, 4}"
      ]
     },
     "execution_count": 6,
     "metadata": {},
     "output_type": "execute_result"
    }
   ],
   "source": [
    "a=set()\n",
    "a.add(1)\n",
    "a.add(2)\n",
    "a.add(3)\n",
    "a.add(4)\n",
    "a\n",
    "a.add(1)\n",
    "a.add(2)\n",
    "a.add(3)\n",
    "a.add(4)\n",
    "a"
   ]
  },
  {
   "cell_type": "markdown",
   "metadata": {},
   "source": [
    "# 後來改為 : set"
   ]
  },
  {
   "cell_type": "code",
   "execution_count": 15,
   "metadata": {},
   "outputs": [],
   "source": [
    "# This class represents a directed graph \n",
    "# using adjacency list representation \n",
    "class Graph:\n",
    "    # Constructor \n",
    "    def __init__(self): \n",
    "        # default dictionary to store graph \n",
    "        self.graph = defaultdict(list)#產生graph，結構由defaultdict(list)的型蓋組成(self.graph是list型態)\n",
    "\n",
    "    # function to add an edge to graph \n",
    "    def addEdge(self,u,v): \n",
    "        self.graph[u].append(v) #因為self.graph是list型態，所以可以用append加進去U(key)，建立value(list) \n",
    "    \n",
    "    # show all Edge in the tree\n",
    "    def generate_edges(self):\n",
    "        edges = [] #看有哪些邊\n",
    "        for node in self.graph: #檢查每個key\n",
    "            for neighbor in self.graph[node]: #把鄰居印出來，並加在edge後面\n",
    "                edges.append((node,neighbor))\n",
    "        return edges\n",
    "\n",
    "    def BFS(self, s): #s為出發點\n",
    "        result = [] #把走過的順序存在此處方便之後印出來\n",
    "        state1 = [] #先建立一個待完成清單\n",
    "        state1.append(s) #把起點s加入待完成清單\n",
    "        state2 = set() #把有走過的點加入state2中\n",
    "        state2.add(s) #s已走完，因此可先將s加入\n",
    "        while(len(state1)>0): #當待完成清單中還有值\n",
    "            node = state1.pop(0) #從下面取出值\n",
    "            neighbor = self.graph[node] #並看此值有無鄰居[]\n",
    "            #以下是為了要依序把鄰居放入待完成清單\n",
    "            for i in neighbor:\n",
    "                #先看此鄰居有沒有走訪過\n",
    "                if i not in state2: #若沒有\n",
    "                    state1.append(i) #沒走過放待完成清單中\n",
    "                    state2.add(i) #走過放state2\n",
    "            result.append(node)\n",
    "        return result"
   ]
  },
  {
   "cell_type": "code",
   "execution_count": 16,
   "metadata": {},
   "outputs": [
    {
     "name": "stdout",
     "output_type": "stream",
     "text": [
      "[(0, 1), (0, 2), (1, 2), (2, 0), (2, 3), (3, 3)]\n",
      "[2, 0, 3, 1]\n"
     ]
    }
   ],
   "source": [
    "g = Graph()\n",
    "# declaration of graph as dictionary\n",
    "g.addEdge(0,1)\n",
    "g.addEdge(0,2)\n",
    "g.addEdge(1,2)\n",
    "g.addEdge(2,0)\n",
    "g.addEdge(2,3)\n",
    "g.addEdge(3,3)\n",
    "print(g.generate_edges())\n",
    "print(g.BFS(2))"
   ]
  },
  {
   "cell_type": "code",
   "execution_count": 17,
   "metadata": {},
   "outputs": [
    {
     "name": "stdout",
     "output_type": "stream",
     "text": [
      "[('a', 'c'), ('b', 'c'), ('b', 'e'), ('c', 'd'), ('c', 'e'), ('c', 'a'), ('c', 'b'), ('e', 'b'), ('e', 'c'), ('d', 'c')]\n",
      "['a', 'c', 'd', 'e', 'b']\n"
     ]
    }
   ],
   "source": [
    "#test case: 2\n",
    "g = Graph()\n",
    "g.addEdge('a','c') \n",
    "g.addEdge('b','c') \n",
    "g.addEdge('b','e') \n",
    "g.addEdge('c','d') \n",
    "g.addEdge('c','e') \n",
    "g.addEdge('c','a') \n",
    "g.addEdge('c','b') \n",
    "g.addEdge('e','b') \n",
    "g.addEdge('d','c') \n",
    "g.addEdge('e','c')\n",
    "\n",
    "print(g.generate_edges())\n",
    "print(g.BFS('a'))"
   ]
  },
  {
   "cell_type": "markdown",
   "metadata": {},
   "source": [
    "# DFS : 只有改pop"
   ]
  },
  {
   "cell_type": "code",
   "execution_count": 5,
   "metadata": {},
   "outputs": [],
   "source": [
    "# This class represents a directed graph \n",
    "# using adjacency list representation \n",
    "class Graph:\n",
    "    # Constructor \n",
    "    def __init__(self): \n",
    "        # default dictionary to store graph \n",
    "        self.graph = defaultdict(list)#產生graph，結構由defaultdict(list)的型蓋組成(self.graph是list型態)\n",
    "\n",
    "    # function to add an edge to graph \n",
    "    def addEdge(self,u,v): \n",
    "        self.graph[u].append(v) #因為self.graph是list型態，所以可以用append加進去U(key)，建立value(list) \n",
    "    \n",
    "    # show all Edge in the tree\n",
    "    def generate_edges(self):\n",
    "        edges = [] #看有哪些邊\n",
    "        for node in self.graph: #檢查每個key\n",
    "            for neighbor in self.graph[node]: #把鄰居印出來，並加在edge後面\n",
    "                edges.append((node,neighbor))\n",
    "        return edges\n",
    "\n",
    "    def DFS(self, s):\n",
    "        result = []\n",
    "        stack = []\n",
    "        stack.append(s)\n",
    "        seen = set()\n",
    "        seen.add(s)\n",
    "        while(len(stack)>0):\n",
    "            node = stack.pop() #從上面取出\n",
    "            neighbor = self.graph[node]\n",
    "            for i in neighbor:\n",
    "                if i not in seen:\n",
    "                    stack.append(i)\n",
    "                    seen.add(i)\n",
    "            result.append(node)\n",
    "        return result"
   ]
  },
  {
   "cell_type": "code",
   "execution_count": 6,
   "metadata": {},
   "outputs": [
    {
     "name": "stdout",
     "output_type": "stream",
     "text": [
      "[(0, 1), (0, 2), (1, 2), (2, 0), (2, 3), (3, 3)]\n",
      "[2, 3, 0, 1]\n"
     ]
    }
   ],
   "source": [
    "g = Graph()\n",
    "# declaration of graph as dictionary\n",
    "g.addEdge(0,1)\n",
    "g.addEdge(0,2)\n",
    "g.addEdge(1,2)\n",
    "g.addEdge(2,0)\n",
    "g.addEdge(2,3)\n",
    "g.addEdge(3,3)\n",
    "print(g.generate_edges())\n",
    "print(g.DFS(2))"
   ]
  },
  {
   "cell_type": "code",
   "execution_count": 19,
   "metadata": {},
   "outputs": [
    {
     "name": "stdout",
     "output_type": "stream",
     "text": [
      "[('a', 'c'), ('b', 'c'), ('b', 'e'), ('c', 'd'), ('c', 'e'), ('c', 'a'), ('c', 'b'), ('e', 'b'), ('e', 'c'), ('d', 'c')]\n",
      "['a', 'c', 'b', 'e', 'd']\n"
     ]
    }
   ],
   "source": [
    "#test case: 2\n",
    "g = Graph()\n",
    "g.addEdge('a','c') \n",
    "g.addEdge('b','c') \n",
    "g.addEdge('b','e') \n",
    "g.addEdge('c','d') \n",
    "g.addEdge('c','e') \n",
    "g.addEdge('c','a') \n",
    "g.addEdge('c','b') \n",
    "g.addEdge('e','b') \n",
    "g.addEdge('d','c') \n",
    "g.addEdge('e','c')\n",
    "\n",
    "print(g.generate_edges())\n",
    "print(g.DFS('a'))"
   ]
  },
  {
   "cell_type": "markdown",
   "metadata": {},
   "source": [
    "## ★參考資料\n",
    "程式碼資料來源 : 自己\n",
    "\n",
    "https://www.geeksforgeeks.org/generate-graph-using-dictionary-python/\n",
    "\n",
    "https://zh.wikipedia.org/wiki/%E5%B9%BF%E5%BA%A6%E4%BC%98%E5%85%88%E6%90%9C%E7%B4%A2\n",
    "\n",
    "https://zh.wikipedia.org/wiki/%E6%B7%B1%E5%BA%A6%E4%BC%98%E5%85%88%E6%90%9C%E7%B4%A2"
   ]
  }
 ],
 "metadata": {
  "kernelspec": {
   "display_name": "Python 3",
   "language": "python",
   "name": "python3"
  },
  "language_info": {
   "codemirror_mode": {
    "name": "ipython",
    "version": 3
   },
   "file_extension": ".py",
   "mimetype": "text/x-python",
   "name": "python",
   "nbconvert_exporter": "python",
   "pygments_lexer": "ipython3",
   "version": "3.7.1"
  }
 },
 "nbformat": 4,
 "nbformat_minor": 2
}
