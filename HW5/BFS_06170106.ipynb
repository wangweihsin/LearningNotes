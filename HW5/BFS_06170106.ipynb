{
 "cells": [
  {
   "cell_type": "code",
   "execution_count": 3,
   "metadata": {},
   "outputs": [],
   "source": [
    "from collections import defaultdict \n",
    "class Graph:\n",
    "    def __init__(self): \n",
    "        self.graph = defaultdict(list)#產生graph，結構由defaultdict(list)的型蓋組成(self.graph是list型態)\n",
    "\n",
    "    def addEdge(self,u,v): \n",
    "        self.graph[u].append(v) #因為self.graph是list型態，所以可以用append加進去U(key)，建立value(list) \n",
    "\n",
    "    def BFS(self, s): #s為出發點\n",
    "        result = [] #把走過的順序存在此處方便之後印出來\n",
    "        state1 = [] #先建立一個待完成清單\n",
    "        state1.append(s) #把起點s加入待完成清單\n",
    "        state2 = set() #把有走過的點加入state2中\n",
    "        state2.add(s) #s已走完，因此可先將s加入\n",
    "        while(len(state1)>0): #當待完成清單中還有值\n",
    "            node = state1.pop(0) #從下面取出值\n",
    "            neighbor = self.graph[node] #並看此值有無鄰居[]\n",
    "            #以下是為了要依序把鄰居放入待完成清單\n",
    "            for i in neighbor:#先看此鄰居有沒有走訪過\n",
    "                if i not in state2: #若沒有\n",
    "                    state1.append(i) #沒走過放待完成清單中\n",
    "                    state2.add(i) #走過放state2\n",
    "            result.append(node)#把取出來的值依序加入result\n",
    "        return result#並傳回\n",
    "\n",
    "    def DFS(self, s): #s為出發點\n",
    "        result = [] #把走過的順序存在此處方便之後印出來\n",
    "        stack = [] #先建立一個待完成清單\n",
    "        stack.append(s) #把起點s加入待完成清單\n",
    "        seen = set() #把有走過的點加入seen中\n",
    "        seen.add(s) #s已走完，因此可先將s加入\n",
    "        while(len(stack)>0): #當待完成清單中還有值\n",
    "            node = stack.pop() #從上面取出值\n",
    "            neighbor = self.graph[node] #並看此值有無鄰居[]\n",
    "            #以下是為了要依序把鄰居放入待完成清單\n",
    "            for i in neighbor:#先看此鄰居有沒有走訪過\n",
    "                if i not in seen: #若沒有\n",
    "                    stack.append(i) #沒走過放待完成清單中\n",
    "                    seen.add(i) #走過放seen\n",
    "            result.append(node)#把取出來的值依序加入result\n",
    "        return result#並傳回"
   ]
  },
  {
   "cell_type": "code",
   "execution_count": 4,
   "metadata": {},
   "outputs": [
    {
     "name": "stdout",
     "output_type": "stream",
     "text": [
      "[2, 0, 3, 1]\n",
      "[2, 3, 0, 1]\n"
     ]
    }
   ],
   "source": [
    "g = Graph()\n",
    "g.addEdge(0,1)\n",
    "g.addEdge(0,2)\n",
    "g.addEdge(1,2)\n",
    "g.addEdge(2,0)\n",
    "g.addEdge(2,3)\n",
    "g.addEdge(3,3)\n",
    "print(g.BFS(2))\n",
    "print(g.DFS(2))"
   ]
  }
 ],
 "metadata": {
  "kernelspec": {
   "display_name": "Python 3",
   "language": "python",
   "name": "python3"
  },
  "language_info": {
   "codemirror_mode": {
    "name": "ipython",
    "version": 3
   },
   "file_extension": ".py",
   "mimetype": "text/x-python",
   "name": "python",
   "nbconvert_exporter": "python",
   "pygments_lexer": "ipython3",
   "version": "3.7.1"
  }
 },
 "nbformat": 4,
 "nbformat_minor": 2
}
